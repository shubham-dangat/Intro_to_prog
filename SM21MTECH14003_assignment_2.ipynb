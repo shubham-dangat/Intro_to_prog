{
  "nbformat": 4,
  "nbformat_minor": 0,
  "metadata": {
    "colab": {
      "name": "SM21MTECH14003_assignment_2 - SM2021.ipynb",
      "provenance": [],
      "collapsed_sections": [],
      "toc_visible": true
    },
    "kernelspec": {
      "name": "python3",
      "display_name": "Python 3"
    }
  },
  "cells": [
    {
      "cell_type": "markdown",
      "metadata": {
        "id": "q4GgQtw-N7uQ"
      },
      "source": [
        "Introduction to Python 3\n",
        "==========\n",
        "\n",
        "### *Samujjwal Ghosh*\n",
        "\n",
        "This notebook covers few basics of Python 3 which differs significantly from other general purpose languages to get people started with Python. Hence, it is most suitable for people who are begineer in Python but has some basic experience in any other general purpose languages like C, C++, Java, etc.\n",
        "\n",
        "## Topics covered:\n",
        "1.   Datatypes & type()\n",
        "2.   Data Structures and their indexing\n",
        "5.   Loops\n",
        "    *   List Comprehension\n",
        "7.   Functions \n",
        "    *   Defining your own functions\n",
        "8.   Classes in Python\n",
        "    *   \\_\\_init__\n",
        "    *   self\n",
        "8.   Working with packages\n",
        "9.   Homeworks\n",
        "10.  Pandas (Reading and Plotting)\n",
        "    *   File Reading\n",
        "    *   Slicing\n",
        "    *   Plotting"
      ]
    },
    {
      "cell_type": "markdown",
      "metadata": {
        "id": "2ADcGsRyu62K"
      },
      "source": [
        "### Datatypes\n",
        "**Dynamic typing:** No need to specify type beforehand.\n",
        "\n",
        "Basic datatypes: \n",
        "*   bool\n",
        "*   int\n",
        "*   float\n",
        "*   str\n",
        "\n",
        "Check type of the data using **type()**.\n",
        "\n",
        "*Note:* Everything in Python is internally object."
      ]
    },
    {
      "cell_type": "code",
      "metadata": {
        "id": "imB_p3NMvUwA",
        "colab": {
          "base_uri": "https://localhost:8080/"
        },
        "outputId": "bb9cc752-a7fd-4eac-fb25-c17ef2198787"
      },
      "source": [
        "a = 1.0 # float\n",
        "b = 'Hello' # str\n",
        "print(a,type(a))\n",
        "print(type(19))\n",
        "print(b,type(b))"
      ],
      "execution_count": 109,
      "outputs": [
        {
          "output_type": "stream",
          "name": "stdout",
          "text": [
            "1.0 <class 'float'>\n",
            "<class 'int'>\n",
            "Hello <class 'str'>\n"
          ]
        }
      ]
    },
    {
      "cell_type": "markdown",
      "metadata": {
        "id": "VWTpkHt2I7Pd"
      },
      "source": [
        "### Data Structures\n",
        "\n",
        "Basic Structure types: \n",
        "*   **list**: [1, 'a', 0.5, 1]\n",
        "*   **tuple**: (1, 'a', 0.5, 1) # immutable\n",
        "*   **set**: {1, 'a', 0.5} Unique values only.\n",
        "*   **dict**:  {Key : Value} => ('a' : [1, 2, 3] , 'b' : 2), Keys are only from immutable type."
      ]
    },
    {
      "cell_type": "code",
      "metadata": {
        "id": "Xj8F0aR4ePce",
        "colab": {
          "base_uri": "https://localhost:8080/"
        },
        "outputId": "a2d96c17-736e-4588-9e2b-df3ae1ab3e3f"
      },
      "source": [
        "# List\n",
        "a = [] # Initialization 1\n",
        "b = [] # Initialization 2\n",
        "print(type(a),a,type(b),b)\n",
        "a.append(2) # Adding items to list, alternatives: insert()\n",
        "print(a)\n",
        "a.append('d') # List can hold multiple datatypes even other data structures.\n",
        "print(a)\n",
        "a.append([3,4])\n",
        "print(a)\n",
        "\n",
        "print(a[0]) # Accessing the first element"
      ],
      "execution_count": 111,
      "outputs": [
        {
          "output_type": "stream",
          "name": "stdout",
          "text": [
            "<class 'list'> [] <class 'list'> []\n",
            "[2]\n",
            "[2, 'd']\n",
            "[2, 'd', [3, 4]]\n",
            "2\n"
          ]
        }
      ]
    },
    {
      "cell_type": "markdown",
      "metadata": {
        "id": "ht_0hGCAQhox"
      },
      "source": [
        "### Indexing\n",
        "Accessing specific element or a range of values using their position"
      ]
    },
    {
      "cell_type": "code",
      "metadata": {
        "colab": {
          "base_uri": "https://localhost:8080/"
        },
        "id": "fURCMbU6Qn-4",
        "outputId": "5787cdff-5e93-4a95-94f6-eba76c1914e6"
      },
      "source": [
        "## Fetch the second element of the inner list\n",
        "a[2][1]"
      ],
      "execution_count": null,
      "outputs": [
        {
          "output_type": "execute_result",
          "data": {
            "text/plain": [
              "4"
            ]
          },
          "metadata": {},
          "execution_count": 176
        }
      ]
    },
    {
      "cell_type": "code",
      "metadata": {
        "colab": {
          "base_uri": "https://localhost:8080/"
        },
        "id": "fTe1cswXR-_V",
        "outputId": "99d5d0e8-dfe7-4401-ade8-b67a002040ef"
      },
      "source": [
        "## Fetch last element\n",
        "a[-1]"
      ],
      "execution_count": null,
      "outputs": [
        {
          "output_type": "execute_result",
          "data": {
            "text/plain": [
              "[3, 4]"
            ]
          },
          "metadata": {},
          "execution_count": 177
        }
      ]
    },
    {
      "cell_type": "code",
      "metadata": {
        "colab": {
          "base_uri": "https://localhost:8080/"
        },
        "id": "DWGBuJ5yRglz",
        "outputId": "7cb083dc-42dc-4822-9245-3526eac6d228"
      },
      "source": [
        "## Fetch all except first\n",
        "a[1:]"
      ],
      "execution_count": null,
      "outputs": [
        {
          "output_type": "execute_result",
          "data": {
            "text/plain": [
              "['d', [3, 4]]"
            ]
          },
          "metadata": {},
          "execution_count": 178
        }
      ]
    },
    {
      "cell_type": "code",
      "metadata": {
        "colab": {
          "base_uri": "https://localhost:8080/"
        },
        "id": "4IrOdKiFRt8P",
        "outputId": "5e05aad2-a808-451f-e9bb-2dadc1ae7d5e"
      },
      "source": [
        "a[1:3]"
      ],
      "execution_count": null,
      "outputs": [
        {
          "output_type": "execute_result",
          "data": {
            "text/plain": [
              "['d', [3, 4]]"
            ]
          },
          "metadata": {},
          "execution_count": 179
        }
      ]
    },
    {
      "cell_type": "markdown",
      "metadata": {
        "id": "9_0rDlGGR1ku"
      },
      "source": [
        "Q1 . Fetch all elements except the last"
      ]
    },
    {
      "cell_type": "code",
      "metadata": {
        "id": "CTERk0mQR2RG"
      },
      "source": [
        "## Q1. Fetch all elements except the last\n"
      ],
      "execution_count": null,
      "outputs": []
    },
    {
      "cell_type": "code",
      "metadata": {
        "id": "Plcxw846Un9W"
      },
      "source": [
        "a_list = [2, 6, 4, 8, 1232, 5456, 2223, 554]"
      ],
      "execution_count": 33,
      "outputs": []
    },
    {
      "cell_type": "markdown",
      "metadata": {
        "id": "jAsvHv66y8lN"
      },
      "source": [
        "### Loops\n",
        "*   \"while\" very closely resembles with other languages.\n",
        "*   \"for\" closely resembels \"foreach\" from other languages.\n",
        "\n",
        "\n",
        "***Enumerating*** a loop using ***for***:"
      ]
    },
    {
      "cell_type": "code",
      "metadata": {
        "colab": {
          "base_uri": "https://localhost:8080/"
        },
        "id": "CEyNtKeCUjM7",
        "outputId": "2776f469-662c-4986-9212-3cacee45e070"
      },
      "source": [
        "## Finds the max and min value in a list\n",
        "import math\n",
        "max_item = -math.inf\n",
        "min_item = math.inf\n",
        "for item in a_list:\n",
        "    if item > max_item:\n",
        "        max_item = item\n",
        "    if item < min_item:\n",
        "        min_item = item\n",
        "print(max_item, min_item)"
      ],
      "execution_count": 34,
      "outputs": [
        {
          "output_type": "stream",
          "name": "stdout",
          "text": [
            "5456 2\n"
          ]
        }
      ]
    },
    {
      "cell_type": "code",
      "metadata": {
        "colab": {
          "base_uri": "https://localhost:8080/"
        },
        "id": "AmOcqTSvUEpY",
        "outputId": "bffb5d26-0f4a-43cf-cd35-ad2a33407a65"
      },
      "source": [
        "print(max(a_list), min(a_list))"
      ],
      "execution_count": 35,
      "outputs": [
        {
          "output_type": "stream",
          "name": "stdout",
          "text": [
            "5456 2\n"
          ]
        }
      ]
    },
    {
      "cell_type": "markdown",
      "metadata": {
        "id": "iBOl27-cV5XI"
      },
      "source": [
        "**Quiz:**\n",
        "\n",
        "You want to store the last 12 months' earnings of an organization. \n",
        "- Which data type will you use?\n",
        "- Extract the last month's sales\n",
        "- What was the sales of the 5th last month (counting backwards)?\n",
        "- What was the maximum of these 12 months sales"
      ]
    },
    {
      "cell_type": "code",
      "metadata": {
        "id": "1Ha0ZLd0UiiD",
        "colab": {
          "base_uri": "https://localhost:8080/"
        },
        "outputId": "daefd90d-9f65-4ec5-82d4-c3492de9166f"
      },
      "source": [
        "# Earnings: 100000, 212874, 197867, 126734, 213243, 221133, 123242, 172132, 155115, 182123, 200000, 212323\n",
        "## Your code here\n",
        "a =[100000, 212874, 197867, 126734, 213243, 221133, 123242, 172132, 155115, 182123, 200000, 212323]\n",
        "print(\"answer 1: I will use list data structure with integer values\")\n",
        "print(\"Answer 2:- Last month's sale \",a[-1])\n",
        "print(\"Answer 3:- 5th last month's sale: \",a[-5])\n",
        "print(\"Answer 4 :- Maximum is: \",max(a))"
      ],
      "execution_count": 36,
      "outputs": [
        {
          "output_type": "stream",
          "name": "stdout",
          "text": [
            "answer 1: I will use list data structure with integer values\n",
            "Answer 2:- Last month's sale  212323\n",
            "Answer 3:- 5th last month's sale:  172132\n",
            "Answer 4 :- Maximum is:  221133\n"
          ]
        }
      ]
    },
    {
      "cell_type": "code",
      "metadata": {
        "id": "BZM_cpg5ehnw",
        "colab": {
          "base_uri": "https://localhost:8080/"
        },
        "outputId": "22dedbd8-43d4-46e1-a78c-204e60cd07dd"
      },
      "source": [
        "# Tuple\n",
        "a = () # Initialization 1\n",
        "b = tuple() # Initialization 2\n",
        "print(type(a),a,type(b),b)\n",
        "# There's no way to add any element to tuple after initialization => immutable."
      ],
      "execution_count": 37,
      "outputs": [
        {
          "output_type": "stream",
          "name": "stdout",
          "text": [
            "<class 'tuple'> () <class 'tuple'> ()\n"
          ]
        }
      ]
    },
    {
      "cell_type": "code",
      "metadata": {
        "id": "JV0rL8kQe2fU",
        "colab": {
          "base_uri": "https://localhost:8080/"
        },
        "outputId": "5025a75a-ddc6-4e04-ce64-bf167b4f6c11"
      },
      "source": [
        "# Set\n",
        "b = {1,'a'} # Initialization 1. Special case\n",
        "a = {} # Initialization 0. Special case \n",
        "c = set() # Initialization 2\n",
        "print(type(a),a,type(b),b,type(c),c)\n",
        "b.add(2) # Adding new item to set\n",
        "print(b)\n",
        "b.update([2,3]) # Updating the set. Duplicates are not updated.\n",
        "print(b)\n",
        "## Check what happens if you try to add duplicate"
      ],
      "execution_count": 38,
      "outputs": [
        {
          "output_type": "stream",
          "name": "stdout",
          "text": [
            "<class 'dict'> {} <class 'set'> {1, 'a'} <class 'set'> set()\n",
            "{1, 2, 'a'}\n",
            "{1, 2, 3, 'a'}\n"
          ]
        }
      ]
    },
    {
      "cell_type": "code",
      "metadata": {
        "id": "tN8F7GfEf-9u",
        "colab": {
          "base_uri": "https://localhost:8080/"
        },
        "outputId": "2d35ea19-6a16-4b72-9de9-7b0224104160"
      },
      "source": [
        "# Dict\n",
        "a = {} # Initialization 1\n",
        "b = {1:'a'} # Initialization 2\n",
        "c = dict() # Initialization 3\n",
        "print(type(a),a,type(b),b,type(c),c)\n",
        "b[2] = 'a' # Value can be repeated\n",
        "print(b)\n",
        "b['j'] = ['b','c'] # Same dict with str type key\n",
        "print(b)\n",
        "\n",
        "## Check what happens if same key is repeated with different value"
      ],
      "execution_count": 39,
      "outputs": [
        {
          "output_type": "stream",
          "name": "stdout",
          "text": [
            "<class 'dict'> {} <class 'dict'> {1: 'a'} <class 'dict'> {}\n",
            "{1: 'a', 2: 'a'}\n",
            "{1: 'a', 2: 'a', 'j': ['b', 'c']}\n"
          ]
        }
      ]
    },
    {
      "cell_type": "markdown",
      "metadata": {
        "id": "BHJT-Loy2Lkl"
      },
      "source": [
        "**Q2. Create a list of tuples:**"
      ]
    },
    {
      "cell_type": "code",
      "metadata": {
        "id": "gzt9u_KD2Dtt",
        "colab": {
          "base_uri": "https://localhost:8080/"
        },
        "outputId": "f36a8148-5dc4-486d-e85f-a61cce00b6d5"
      },
      "source": [
        "## Q2. Create a list of tuples:\n",
        "tp1=(1,2,3)\n",
        "tp2=(2,3,4)\n",
        "tp3=(4,5,6)\n",
        "my_list=[tp1,tp2,tp3]\n",
        "print(my_list)"
      ],
      "execution_count": 40,
      "outputs": [
        {
          "output_type": "stream",
          "name": "stdout",
          "text": [
            "[(1, 2, 3), (2, 3, 4), (4, 5, 6)]\n"
          ]
        }
      ]
    },
    {
      "cell_type": "markdown",
      "metadata": {
        "id": "TXJke2YXWxPi"
      },
      "source": [
        "***Enumerating*** a loop in ***reverse order*** using ***for***:"
      ]
    },
    {
      "cell_type": "code",
      "metadata": {
        "id": "KSMa80e0zu2O",
        "colab": {
          "base_uri": "https://localhost:8080/"
        },
        "outputId": "9e3ac55c-2fa6-493b-b17f-abaefa3c09e5"
      },
      "source": [
        "loop_list = [1,2,3,4,5]\n",
        "for index, item in enumerate(reversed(loop_list)): # Items are accessed in reverse order but index runs incrementally.\n",
        "    print(index, item)"
      ],
      "execution_count": 41,
      "outputs": [
        {
          "output_type": "stream",
          "name": "stdout",
          "text": [
            "0 5\n",
            "1 4\n",
            "2 3\n",
            "3 2\n",
            "4 1\n"
          ]
        }
      ]
    },
    {
      "cell_type": "code",
      "metadata": {
        "colab": {
          "base_uri": "https://localhost:8080/"
        },
        "id": "V97uSqd1X6qn",
        "outputId": "7ea0a049-be7d-4be3-ac3f-102092843d8c"
      },
      "source": [
        "Tv = {'BreakingBad':100, 'GameOfThrones':1292, 'TMKUC' : 88}\n",
        "  \n",
        "Keymax = max(Tv, key=Tv.get)\n",
        "print(Keymax)"
      ],
      "execution_count": 42,
      "outputs": [
        {
          "output_type": "stream",
          "name": "stdout",
          "text": [
            "GameOfThrones\n"
          ]
        }
      ]
    },
    {
      "cell_type": "markdown",
      "metadata": {
        "id": "muDmmBLiXJpn"
      },
      "source": [
        "**Quiz:**\n",
        "\n",
        "Add month information (Jan/Feb/...) to the earnings\n",
        "- Extract December's sales\n",
        "- What was the sales amount of last July?\n",
        "- Which month recorded the max sales, and what was the sales volume?"
      ]
    },
    {
      "cell_type": "code",
      "metadata": {
        "id": "XCIfrwsoXbMQ",
        "colab": {
          "base_uri": "https://localhost:8080/"
        },
        "outputId": "17d49449-a4e9-42be-9a0c-fb9908c8b926"
      },
      "source": [
        "## Your code here\n",
        "print(a)\n",
        "my_dict={'january':100000,'february': 212874,'march':197867,'april':126734,'may':213243,'june':221133,'july':123242,'august':172132,'september':155115,'october':182123,'november':200000,'december': 212323}\n",
        "print(\" Total December's Sale\",my_dict['december'])\n",
        "print(\"Sale Amount Of Last July: \",my_dict['july'])\n",
        "key_max =max(my_dict, key=my_dict.get)\n",
        "print(\"Month with maximum sale is\",key_max,\"and its volume is \",my_dict[key_max])"
      ],
      "execution_count": 44,
      "outputs": [
        {
          "output_type": "stream",
          "name": "stdout",
          "text": [
            "{}\n",
            " Total December's Sale 212323\n",
            "Sale Amount Of Last July:  123242\n",
            "Month with maximum sale is june and its volume is  221133\n"
          ]
        }
      ]
    },
    {
      "cell_type": "markdown",
      "metadata": {
        "id": "OErLxf5BYe1E"
      },
      "source": [
        "**Quiz:**\n",
        "\n",
        "In the first and second quarter (Apr-June), what was the max, min and average sales? Use both list and dictionaries to develop two different solutions."
      ]
    },
    {
      "cell_type": "code",
      "metadata": {
        "id": "3HsJOg85YqhB",
        "colab": {
          "base_uri": "https://localhost:8080/"
        },
        "outputId": "7b51185e-7356-4591-abac-925425cc33c4"
      },
      "source": [
        "## Your code here\n",
        "first_quarter = ['january','february','march']\n",
        "second_quarter = ['april','may','june']\n",
        "first_list=[]\n",
        "second_list=[]\n",
        "for i in first_quarter:\n",
        "  first_list.append(my_dict[i])\n",
        "for i in second_quarter:\n",
        "  second_list.append(my_dict[i])\n",
        "\n",
        "print(\"Maximum Sale of first Quarter is: \",max(first_list),\"\\nMinimum Sale of first quarter is :\",min(first_list),\"\\nAverage sale of first quarter is: \",sum(first_list)/len(first_list))\n",
        "print(\"Maximum Sale of second Quarter is: \",max(second_list),\"\\nMinimum Sale of second quarter is :\",min(second_list),\"\\nAverage sale of second quarter is: \",sum(second_list)/len(second_list))"
      ],
      "execution_count": 45,
      "outputs": [
        {
          "output_type": "stream",
          "name": "stdout",
          "text": [
            "Maximum Sale of first Quarter is:  212874 \n",
            "Minimum Sale of first quarter is : 100000 \n",
            "Average sale of first quarter is:  170247.0\n",
            "Maximum Sale of second Quarter is:  221133 \n",
            "Minimum Sale of second quarter is : 126734 \n",
            "Average sale of second quarter is:  187036.66666666666\n"
          ]
        }
      ]
    },
    {
      "cell_type": "markdown",
      "metadata": {
        "id": "QJB5g3A7m_Q6"
      },
      "source": [
        "#### List Comprehension\n",
        "*   Readable code\n",
        "*   Works with multiple loops\n",
        "\n"
      ]
    },
    {
      "cell_type": "code",
      "metadata": {
        "id": "-NnSgZZt02Mm",
        "colab": {
          "base_uri": "https://localhost:8080/"
        },
        "outputId": "7f08cd8a-5d84-4649-d437-6c91a29c4e47"
      },
      "source": [
        "# Loop 1\n",
        "new_list1 = []\n",
        "for i in loop_list:\n",
        "    if i >= 3:\n",
        "        new_list1.append(i)\n",
        "        \n",
        "# Loop 2 == Loop 1\n",
        "new_list2 = [i for i in loop_list if i >= 3] # alternate: new_list3 = list(i for i in loop_list if i >= 2)\n",
        "\n",
        "# Check if both lists are same or not\n",
        "print(new_list1, new_list2)"
      ],
      "execution_count": 46,
      "outputs": [
        {
          "output_type": "stream",
          "name": "stdout",
          "text": [
            "[3, 4, 5] [3, 4, 5]\n"
          ]
        }
      ]
    },
    {
      "cell_type": "code",
      "metadata": {
        "id": "qqpaHHuLYL-y",
        "colab": {
          "base_uri": "https://localhost:8080/"
        },
        "outputId": "c9995c8f-10a0-4356-da83-f1d0d70416cd"
      },
      "source": [
        "# Loop with 2 variables\n",
        "new_tuple_list1 = [(i,j) for i in new_list1 for j in new_list2 if i >= 3]\n",
        "print(new_tuple_list1)"
      ],
      "execution_count": 47,
      "outputs": [
        {
          "output_type": "stream",
          "name": "stdout",
          "text": [
            "[(3, 3), (3, 4), (3, 5), (4, 3), (4, 4), (4, 5), (5, 3), (5, 4), (5, 5)]\n"
          ]
        }
      ]
    },
    {
      "cell_type": "markdown",
      "metadata": {
        "id": "asgWEOv42jtb"
      },
      "source": [
        "**Q3. Write nested list comprehension:**"
      ]
    },
    {
      "cell_type": "code",
      "metadata": {
        "id": "iqPNkT3624ba",
        "colab": {
          "base_uri": "https://localhost:8080/"
        },
        "outputId": "41fcbad2-e095-4d20-f6ce-79b132289283"
      },
      "source": [
        "## Q3. Write nested list comprehension:\n",
        "\n",
        "#creating 5x5 list\n",
        "list = []\n",
        "  \n",
        "for i in range(5):\n",
        "    list.append([])\n",
        "    for j in range(5):\n",
        "        list[i].append(j)         \n",
        "print(list)"
      ],
      "execution_count": 48,
      "outputs": [
        {
          "output_type": "stream",
          "name": "stdout",
          "text": [
            "[[0, 1, 2, 3, 4], [0, 1, 2, 3, 4], [0, 1, 2, 3, 4], [0, 1, 2, 3, 4], [0, 1, 2, 3, 4]]\n"
          ]
        }
      ]
    },
    {
      "cell_type": "markdown",
      "metadata": {
        "id": "ttj-58KNN7uR"
      },
      "source": [
        "### Functions\n",
        "Always write functions with Doc String.\n",
        "Features like help(), default argument, etc.\n",
        "\n",
        "*Note:* help() function is possibly the most important Python function you can learn. If you can remember how to use help(), you hold the key to understanding most other function."
      ]
    },
    {
      "cell_type": "code",
      "metadata": {
        "id": "xu2TDmziqfpD",
        "colab": {
          "base_uri": "https://localhost:8080/"
        },
        "outputId": "96eacd3d-8031-4884-b8ee-1fbf45b8bc83"
      },
      "source": [
        "help(print)"
      ],
      "execution_count": 49,
      "outputs": [
        {
          "output_type": "stream",
          "name": "stdout",
          "text": [
            "Help on built-in function print in module builtins:\n",
            "\n",
            "print(...)\n",
            "    print(value, ..., sep=' ', end='\\n', file=sys.stdout, flush=False)\n",
            "    \n",
            "    Prints the values to a stream, or to sys.stdout by default.\n",
            "    Optional keyword arguments:\n",
            "    file:  a file-like object (stream); defaults to the current sys.stdout.\n",
            "    sep:   string inserted between values, default a space.\n",
            "    end:   string appended after the last value, default a newline.\n",
            "    flush: whether to forcibly flush the stream.\n",
            "\n"
          ]
        }
      ]
    },
    {
      "cell_type": "markdown",
      "metadata": {
        "id": "ht_-JIIvznRI"
      },
      "source": [
        "#### Defining your own functions and using help().\n",
        "\n",
        "**Adding and using Doc String:**"
      ]
    },
    {
      "cell_type": "code",
      "metadata": {
        "id": "736PnpDzzyHI",
        "colab": {
          "base_uri": "https://localhost:8080/"
        },
        "outputId": "7235a021-ffdd-4e99-d950-6c06dbdd217a"
      },
      "source": [
        "def try_help():\n",
        "    \"\"\" This is a doc string of a function which can be used as custom help. \"\"\"\n",
        "    value = \"This is the return value 'HELP'.\"\n",
        "    return value\n",
        "\n",
        "print(try_help) # Even a function is an object in Python.\n",
        "\n",
        "print(try_help())\n",
        "\n",
        "help(try_help)"
      ],
      "execution_count": 50,
      "outputs": [
        {
          "output_type": "stream",
          "name": "stdout",
          "text": [
            "<function try_help at 0x7f559cfad440>\n",
            "This is the return value 'HELP'.\n",
            "Help on function try_help in module __main__:\n",
            "\n",
            "try_help()\n",
            "    This is a doc string of a function which can be used as custom help.\n",
            "\n"
          ]
        }
      ]
    },
    {
      "cell_type": "code",
      "metadata": {
        "id": "gfV1snia2G-N",
        "colab": {
          "base_uri": "https://localhost:8080/"
        },
        "outputId": "a53c35d8-9620-4257-b662-3733b9673f0d"
      },
      "source": [
        "def no_return():\n",
        "    \"\"\" This function does not return anything. \"\"\"\n",
        "    value = \"This is the return value 'HELP'.\"  \n",
        "    \n",
        "print(no_return())"
      ],
      "execution_count": null,
      "outputs": [
        {
          "output_type": "stream",
          "name": "stdout",
          "text": [
            "None\n"
          ]
        }
      ]
    },
    {
      "cell_type": "markdown",
      "metadata": {
        "id": "Tn4I2yow25wc"
      },
      "source": [
        "**Default Arguments:**"
      ]
    },
    {
      "cell_type": "code",
      "metadata": {
        "id": "koUJrMd53FEJ",
        "colab": {
          "base_uri": "https://localhost:8080/"
        },
        "outputId": "76e59ac2-328d-4ad4-a477-3a9ea7eeb16e"
      },
      "source": [
        "def default_args(who=\"World\"):\n",
        "    print(\"Hello\", who)\n",
        "    \n",
        "default_args()\n",
        "\n",
        "default_args(\"Sam\")"
      ],
      "execution_count": null,
      "outputs": [
        {
          "output_type": "stream",
          "name": "stdout",
          "text": [
            "Hello World\n",
            "Hello Sam\n"
          ]
        }
      ]
    },
    {
      "cell_type": "markdown",
      "metadata": {
        "id": "l3rCr1yv2_Qz"
      },
      "source": [
        "**Q4. Write a function to swap two values**"
      ]
    },
    {
      "cell_type": "code",
      "metadata": {
        "id": "8N3UiwRs0uUK",
        "colab": {
          "base_uri": "https://localhost:8080/"
        },
        "outputId": "ec0cc308-7686-4444-e564-20463a85b509"
      },
      "source": [
        "## Q4. Write a function to swap two values\n",
        "def swap_values(a, b):\n",
        "     ## Your code here\n",
        "  t=a\n",
        "  a=b\n",
        "  b=t\n",
        "  return a,b \n",
        "\n",
        "m=4\n",
        "n=5\n",
        "m,n=swap_values(m,n)\n",
        "print(\"swapped values of m and n are\",m,\"and\",n)"
      ],
      "execution_count": 51,
      "outputs": [
        {
          "output_type": "stream",
          "name": "stdout",
          "text": [
            "swapped values of m and n are 5 and 4\n"
          ]
        }
      ]
    },
    {
      "cell_type": "markdown",
      "metadata": {
        "id": "cs1O_BRABvak"
      },
      "source": [
        "### Classes in Python\n",
        "Everything in Python is basically an object, even modules, functions, variables, etc.\n",
        "\n",
        "*Note:* Supports inheritence but not multi-inheritence.\n",
        "\n",
        "*Note:* \"self\" here is equivalent to \"this\" in other languages."
      ]
    },
    {
      "cell_type": "code",
      "metadata": {
        "id": "MFZC5QtiB8Yw"
      },
      "source": [
        "class testClass(object):\n",
        "    \"\"\"This is a class Doc String.\"\"\"\n",
        "    \n",
        "    def __init__(self, print_this=\"print from init\"):\n",
        "        self.print_this = print_this\n",
        "        print(\"Class initialized by 'init' inside Python class named testClass.\", self.__doc__)\n",
        "        print(self.print_this)\n",
        "        \n",
        "    def arbit_func_name(self, args = 'print from arbit'):\n",
        "        \"\"\"Doc String of method 'arbit_func_name'.\"\"\"\n",
        "        print(self.print_this, args)"
      ],
      "execution_count": 29,
      "outputs": []
    },
    {
      "cell_type": "code",
      "metadata": {
        "id": "G0EJaWpxYgx2",
        "colab": {
          "base_uri": "https://localhost:8080/"
        },
        "outputId": "c462c054-7502-4c70-ebc1-4913cefb939b"
      },
      "source": [
        "tc_obj = testClass(\"Sam\") # Creating an object of the class.\n",
        "\n",
        "tc_obj.arbit_func_name() # Calling without any argument\n",
        "\n",
        "tc_obj.arbit_func_name(\"is it arbit?\") # Calling with argument\n",
        "\n",
        "print(tc_obj.__doc__) # Print the Doc String\n",
        "\n",
        "help(tc_obj.arbit_func_name) # Accessing Doc String of the method inside class\n",
        "\n",
        "help(testClass.arbit_func_name) # Prints the Doc String of the class\n",
        "\n",
        "help(testClass) # Prints the Doc String of the class\n",
        "\n",
        "help(tc_obj) # Prints the Doc String of the class"
      ],
      "execution_count": 30,
      "outputs": [
        {
          "output_type": "stream",
          "name": "stdout",
          "text": [
            "Class initialized by 'init' inside Python class named testClass. This is a class Doc String.\n",
            "Sam\n",
            "Sam print from arbit\n",
            "Sam is it arbit?\n",
            "This is a class Doc String.\n",
            "Help on method arbit_func_name in module __main__:\n",
            "\n",
            "arbit_func_name(args='print from arbit') method of __main__.testClass instance\n",
            "    Doc String of method 'arbit_func_name'.\n",
            "\n",
            "Help on function arbit_func_name in module __main__:\n",
            "\n",
            "arbit_func_name(self, args='print from arbit')\n",
            "    Doc String of method 'arbit_func_name'.\n",
            "\n",
            "Help on class testClass in module __main__:\n",
            "\n",
            "class testClass(builtins.object)\n",
            " |  testClass(print_this='print from init')\n",
            " |  \n",
            " |  This is a class Doc String.\n",
            " |  \n",
            " |  Methods defined here:\n",
            " |  \n",
            " |  __init__(self, print_this='print from init')\n",
            " |      Initialize self.  See help(type(self)) for accurate signature.\n",
            " |  \n",
            " |  arbit_func_name(self, args='print from arbit')\n",
            " |      Doc String of method 'arbit_func_name'.\n",
            " |  \n",
            " |  ----------------------------------------------------------------------\n",
            " |  Data descriptors defined here:\n",
            " |  \n",
            " |  __dict__\n",
            " |      dictionary for instance variables (if defined)\n",
            " |  \n",
            " |  __weakref__\n",
            " |      list of weak references to the object (if defined)\n",
            "\n",
            "Help on testClass in module __main__ object:\n",
            "\n",
            "class testClass(builtins.object)\n",
            " |  testClass(print_this='print from init')\n",
            " |  \n",
            " |  This is a class Doc String.\n",
            " |  \n",
            " |  Methods defined here:\n",
            " |  \n",
            " |  __init__(self, print_this='print from init')\n",
            " |      Initialize self.  See help(type(self)) for accurate signature.\n",
            " |  \n",
            " |  arbit_func_name(self, args='print from arbit')\n",
            " |      Doc String of method 'arbit_func_name'.\n",
            " |  \n",
            " |  ----------------------------------------------------------------------\n",
            " |  Data descriptors defined here:\n",
            " |  \n",
            " |  __dict__\n",
            " |      dictionary for instance variables (if defined)\n",
            " |  \n",
            " |  __weakref__\n",
            " |      list of weak references to the object (if defined)\n",
            "\n"
          ]
        }
      ]
    },
    {
      "cell_type": "markdown",
      "metadata": {
        "id": "H_KBrVW-3ND7"
      },
      "source": [
        "Q5. Add another method to the class which changes the value of self.print_this:"
      ]
    },
    {
      "cell_type": "code",
      "metadata": {
        "id": "ZmSuKjwN3tjT"
      },
      "source": [
        "## Q5. Add another method to the class which changes the value of self.print_this:\n"
      ],
      "execution_count": null,
      "outputs": []
    },
    {
      "cell_type": "code",
      "metadata": {
        "id": "DICCcUtrAK0B"
      },
      "source": [
        ""
      ],
      "execution_count": null,
      "outputs": []
    },
    {
      "cell_type": "markdown",
      "metadata": {
        "id": "va5B2sIMGJsk"
      },
      "source": [
        "### Working with packages\n",
        "\n",
        "Some are built-in, some are not. Built-in packages need not be downloaded and installed. For others, download and installation is needed. ***pip*** is used for package management in Python.\n",
        "\n",
        "*Note:* Use ! for colab commands."
      ]
    },
    {
      "cell_type": "code",
      "metadata": {
        "id": "8dAQe0TSG0zV",
        "colab": {
          "base_uri": "https://localhost:8080/"
        },
        "outputId": "9cc4ffc2-5a81-4ef4-fa9d-52ff1af8d5ec"
      },
      "source": [
        "!pip install numpy # Installs package"
      ],
      "execution_count": null,
      "outputs": [
        {
          "output_type": "stream",
          "name": "stdout",
          "text": [
            "Requirement already satisfied: numpy in /usr/local/lib/python3.7/dist-packages (1.19.5)\n"
          ]
        }
      ]
    },
    {
      "cell_type": "code",
      "metadata": {
        "id": "KPxeieVcTfGk",
        "colab": {
          "base_uri": "https://localhost:8080/"
        },
        "outputId": "65281f6a-8d97-4b12-c13e-ba2f5f055d6f"
      },
      "source": [
        "from pandas import DataFrame # Imports only a the mentioned component\n",
        "import numpy as np # Imports everything in the package\n",
        "\n",
        "np.zeros((2,5)) ## Why do you think two set of parenthesis is used? Remove one set to check what happens."
      ],
      "execution_count": null,
      "outputs": [
        {
          "output_type": "execute_result",
          "data": {
            "text/plain": [
              "array([[0., 0., 0., 0., 0.],\n",
              "       [0., 0., 0., 0., 0.]])"
            ]
          },
          "metadata": {},
          "execution_count": 2
        }
      ]
    },
    {
      "cell_type": "markdown",
      "metadata": {
        "id": "90o-02NKEF4F"
      },
      "source": [
        "### Homeworks\n",
        "\n",
        "### 1. Write a function to return the second maximum value in a list.\n",
        "```\n",
        "input: [2, 5, 6, 2, 9, 4, 0, 3]\n",
        "result: 6\n",
        "```\n",
        "\n",
        "### 2. Write a function which creates a single list of tuples from two separate equal length lists.\n",
        "```\n",
        "a = [1,2,3]\n",
        "\n",
        "b = ['a','b','c']\n",
        "\n",
        "result = [(1,'a'),(2,'b'),(3,'c')]\n",
        "\n",
        "```\n",
        "### 3. Sort a dict based on it's values.\n",
        "\n",
        "```\n",
        "d = {'a':3, 'b':1, 'c':2}\n",
        "\n",
        "result = [('a',3),('c',2),('b',1)]\n",
        "```\n",
        "\n",
        "\n"
      ]
    },
    {
      "cell_type": "code",
      "metadata": {
        "colab": {
          "base_uri": "https://localhost:8080/"
        },
        "id": "zuVq54BlpS1O",
        "outputId": "9c8a7e41-54c0-4d73-da3b-43caad83e8d9"
      },
      "source": [
        "#Answer for question 1:\n",
        "def second_max(a_list):\n",
        "  second_max=[]\n",
        "  maximum=max(a)\n",
        "  for i in a:\n",
        "    if(i==maximum):\n",
        "      continue\n",
        "    else:\n",
        "      second_max.append(i)\n",
        "  print(\"Second maximum value is:\",max(second_max))\n",
        "a=[2, 5, 6, 2, 9, 4, 0, 3]\n",
        "second_max(a)"
      ],
      "execution_count": 52,
      "outputs": [
        {
          "output_type": "stream",
          "name": "stdout",
          "text": [
            "Second maximum value is: 6\n"
          ]
        }
      ]
    },
    {
      "cell_type": "code",
      "metadata": {
        "colab": {
          "base_uri": "https://localhost:8080/"
        },
        "id": "ZDUrOlNaqVyw",
        "outputId": "5b5e583e-5d87-48ba-9ded-de22e191746f"
      },
      "source": [
        "#Answer for question 2:\n",
        "def merge(l1,l2):\n",
        "  l3=[]\n",
        "  for i in range(len(l1)):\n",
        "    a=(l1[i],l2[i])\n",
        "    l3.append(a)\n",
        "  print(l3)\n",
        "list1=[1,2,3]\n",
        "list2=['a','b','c']\n",
        "merge(list1,list2)"
      ],
      "execution_count": 53,
      "outputs": [
        {
          "output_type": "stream",
          "name": "stdout",
          "text": [
            "[(1, 'a'), (2, 'b'), (3, 'c')]\n"
          ]
        }
      ]
    },
    {
      "cell_type": "code",
      "metadata": {
        "colab": {
          "base_uri": "https://localhost:8080/"
        },
        "id": "t32SeI7cq-51",
        "outputId": "f085942e-00eb-4f60-8e39-3c7f9a6f5dcf"
      },
      "source": [
        "#Answer for question 3:\n",
        "\n",
        "d = {'a':3, 'b':1, 'c':2}\n",
        "sorted(d.items(), key=lambda x: x[1], reverse = True)\n"
      ],
      "execution_count": 54,
      "outputs": [
        {
          "output_type": "execute_result",
          "data": {
            "text/plain": [
              "[('a', 3), ('c', 2), ('b', 1)]"
            ]
          },
          "metadata": {},
          "execution_count": 54
        }
      ]
    },
    {
      "cell_type": "markdown",
      "metadata": {
        "id": "QNr8XWcm4txi"
      },
      "source": [
        "## Pandas (Reading and Plotting)\n",
        "\n",
        "The first step in most data analytics projects is reading the data file. In this section, you'll create `Series` and `DataFrame` objects, both by hand and by reading data files.\n",
        "\n",
        "**Relevant Resources**\n",
        "* [General Pandas Cheat Sheet](https://assets.datacamp.com/blog_assets/PandasPythonForDataScience.pdf)\n",
        "\n",
        "Run the code cell below to load libraries / packages you will need"
      ]
    },
    {
      "cell_type": "code",
      "metadata": {
        "trusted": true,
        "_uuid": "ee6ffa4d5dc599378629960607b0df4bf4c990ff",
        "id": "IezwEB-GOEKE"
      },
      "source": [
        "import pandas as pd"
      ],
      "execution_count": 61,
      "outputs": []
    },
    {
      "cell_type": "markdown",
      "metadata": {
        "_uuid": "57fc6a3d7976daeddd29bdc0a07bc58f8afdbb35",
        "id": "m9lRvcikOEKL"
      },
      "source": [
        "In the cell below, create a DataFrame `fruits` that looks like this:\n",
        "\n",
        "![](https://i.imgur.com/Ax3pp2A.png)"
      ]
    },
    {
      "cell_type": "code",
      "metadata": {
        "trusted": true,
        "_uuid": "ac7f8ccb24c3b10c11d0b0fef91692e5aa7fa7a2",
        "id": "VzLCaz9POEKM",
        "colab": {
          "base_uri": "https://localhost:8080/",
          "height": 81
        },
        "outputId": "e515369b-0cf3-4be5-821d-43662fcb8c0b"
      },
      "source": [
        "# Creating a dataframe matching the above diagram and assigning it to the variable named fruits.\n",
        "fruits = pd.DataFrame({'Apples': [30], 'Bananas': [21]})\n",
        "fruits"
      ],
      "execution_count": 62,
      "outputs": [
        {
          "output_type": "execute_result",
          "data": {
            "text/html": [
              "<div>\n",
              "<style scoped>\n",
              "    .dataframe tbody tr th:only-of-type {\n",
              "        vertical-align: middle;\n",
              "    }\n",
              "\n",
              "    .dataframe tbody tr th {\n",
              "        vertical-align: top;\n",
              "    }\n",
              "\n",
              "    .dataframe thead th {\n",
              "        text-align: right;\n",
              "    }\n",
              "</style>\n",
              "<table border=\"1\" class=\"dataframe\">\n",
              "  <thead>\n",
              "    <tr style=\"text-align: right;\">\n",
              "      <th></th>\n",
              "      <th>Apples</th>\n",
              "      <th>Bananas</th>\n",
              "    </tr>\n",
              "  </thead>\n",
              "  <tbody>\n",
              "    <tr>\n",
              "      <th>0</th>\n",
              "      <td>30</td>\n",
              "      <td>21</td>\n",
              "    </tr>\n",
              "  </tbody>\n",
              "</table>\n",
              "</div>"
            ],
            "text/plain": [
              "   Apples  Bananas\n",
              "0      30       21"
            ]
          },
          "metadata": {},
          "execution_count": 62
        }
      ]
    },
    {
      "cell_type": "markdown",
      "metadata": {
        "_uuid": "61110166df873cf2003a23b4798ed1f00055f251",
        "id": "QtVbOvDVOEKR"
      },
      "source": [
        "Create a dataframe `fruit_sales` that matches the diagram below:\n",
        "\n",
        "![](https://i.imgur.com/CHPn7ZF.png)"
      ]
    },
    {
      "cell_type": "code",
      "metadata": {
        "trusted": true,
        "_uuid": "d9257967f36595e3269bb84684492e24def68cca",
        "id": "TRc7V7fXOEKR",
        "colab": {
          "base_uri": "https://localhost:8080/",
          "height": 112
        },
        "outputId": "2f6c71bd-3a11-4f28-99e1-5e3659502929"
      },
      "source": [
        "## Create a dataframe matching the above diagram and assign it to the variable fruit_sales.\n",
        "## Hint: Use index parameter for the left most columns.\n",
        "fruit_sales = pd.DataFrame({'Apples': [35,41], 'Bananas': [21,34]})\n",
        "fruit_sales.index=['2017 Sales','2018 Sales']\n",
        "fruit_sales"
      ],
      "execution_count": 63,
      "outputs": [
        {
          "output_type": "execute_result",
          "data": {
            "text/html": [
              "<div>\n",
              "<style scoped>\n",
              "    .dataframe tbody tr th:only-of-type {\n",
              "        vertical-align: middle;\n",
              "    }\n",
              "\n",
              "    .dataframe tbody tr th {\n",
              "        vertical-align: top;\n",
              "    }\n",
              "\n",
              "    .dataframe thead th {\n",
              "        text-align: right;\n",
              "    }\n",
              "</style>\n",
              "<table border=\"1\" class=\"dataframe\">\n",
              "  <thead>\n",
              "    <tr style=\"text-align: right;\">\n",
              "      <th></th>\n",
              "      <th>Apples</th>\n",
              "      <th>Bananas</th>\n",
              "    </tr>\n",
              "  </thead>\n",
              "  <tbody>\n",
              "    <tr>\n",
              "      <th>2017 Sales</th>\n",
              "      <td>35</td>\n",
              "      <td>21</td>\n",
              "    </tr>\n",
              "    <tr>\n",
              "      <th>2018 Sales</th>\n",
              "      <td>41</td>\n",
              "      <td>34</td>\n",
              "    </tr>\n",
              "  </tbody>\n",
              "</table>\n",
              "</div>"
            ],
            "text/plain": [
              "            Apples  Bananas\n",
              "2017 Sales      35       21\n",
              "2018 Sales      41       34"
            ]
          },
          "metadata": {},
          "execution_count": 63
        }
      ]
    },
    {
      "cell_type": "markdown",
      "metadata": {
        "_uuid": "abdaa33c44a856e03a9e284a8a1cc57807818879",
        "id": "rAjddyYZOEKV"
      },
      "source": [
        "Create a variable called `ingredients` with a `pd.Series` that looks like:\n",
        "\n",
        "```\n",
        "Flour     4 cups\n",
        "Milk       1 cup\n",
        "Eggs     2 large\n",
        "Spam       1 can\n",
        "Name: Dinner, dtype: object\n",
        "```"
      ]
    },
    {
      "cell_type": "code",
      "metadata": {
        "trusted": true,
        "_uuid": "c860fe2e95c579aff81b8fa634809f405c92ed68",
        "id": "5xgxQMVVOEKW",
        "colab": {
          "base_uri": "https://localhost:8080/"
        },
        "outputId": "126bc6ec-3190-49fd-96cd-3e8438ef3f7f"
      },
      "source": [
        "ingredients = pd.Series(['4 cups','1 cup','2 large', '1 can'], index=['Flour', 'Flour', 'Eggs', 'Spam'], name='Dinner')\n",
        "\n",
        "ingredients"
      ],
      "execution_count": 64,
      "outputs": [
        {
          "output_type": "execute_result",
          "data": {
            "text/plain": [
              "Flour     4 cups\n",
              "Flour      1 cup\n",
              "Eggs     2 large\n",
              "Spam       1 can\n",
              "Name: Dinner, dtype: object"
            ]
          },
          "metadata": {},
          "execution_count": 64
        }
      ]
    },
    {
      "cell_type": "code",
      "metadata": {
        "id": "WtvJKmzZHK7D"
      },
      "source": [
        "import pandas as pd\n",
        "import numpy as np"
      ],
      "execution_count": 65,
      "outputs": []
    },
    {
      "cell_type": "markdown",
      "metadata": {
        "id": "KKNUZKnTP_pN"
      },
      "source": [
        "### File Reading\n",
        "For the next part we will need some data which is available here: [Student Performance Data](https://archive.ics.uci.edu/ml/datasets/Student+Performance)\n",
        "\n",
        "**Abstract:** This data approach student achievement in secondary education of two Portuguese schools. The data attributes include student grades, demographic, social and school related features) and it was collected by using school reports and questionnaires. Two datasets are provided regarding the performance in two distinct subjects: Mathematics (mat) and Portuguese language (por).\n",
        "\n",
        "\n",
        "1.   Download the [zip file](https://archive.ics.uci.edu/ml/machine-learning-databases/00320/student.zip) to your setup.\n",
        "2.   Extract the zip file\n",
        "3.   Upload the `student-mat.csv` file to your workspace"
      ]
    },
    {
      "cell_type": "code",
      "metadata": {
        "colab": {
          "base_uri": "https://localhost:8080/"
        },
        "id": "k2BpEiBHLhMH",
        "outputId": "0f5252f7-8e63-479d-eb8d-4287f5057d48"
      },
      "source": [
        "## Downloads the zip file\n",
        "!wget https://archive.ics.uci.edu/ml/machine-learning-databases/00320/student.zip"
      ],
      "execution_count": 66,
      "outputs": [
        {
          "output_type": "stream",
          "name": "stdout",
          "text": [
            "--2021-10-04 17:51:55--  https://archive.ics.uci.edu/ml/machine-learning-databases/00320/student.zip\n",
            "Resolving archive.ics.uci.edu (archive.ics.uci.edu)... 128.195.10.252\n",
            "Connecting to archive.ics.uci.edu (archive.ics.uci.edu)|128.195.10.252|:443... connected.\n",
            "HTTP request sent, awaiting response... 200 OK\n",
            "Length: 20478 (20K) [application/x-httpd-php]\n",
            "Saving to: ‘student.zip.1’\n",
            "\n",
            "student.zip.1       100%[===================>]  20.00K  --.-KB/s    in 0.05s   \n",
            "\n",
            "2021-10-04 17:51:56 (381 KB/s) - ‘student.zip.1’ saved [20478/20478]\n",
            "\n"
          ]
        }
      ]
    },
    {
      "cell_type": "code",
      "metadata": {
        "colab": {
          "base_uri": "https://localhost:8080/"
        },
        "id": "SrTejLqHL04U",
        "outputId": "dcd05a64-e219-4aa4-91bc-2a34dd089054"
      },
      "source": [
        "## Uncompress the file content\n",
        "!unzip student.zip"
      ],
      "execution_count": 67,
      "outputs": [
        {
          "output_type": "stream",
          "name": "stdout",
          "text": [
            "Archive:  student.zip\n",
            "  inflating: student-mat.csv         \n",
            "  inflating: student-por.csv         \n",
            "  inflating: student-merge.R         \n",
            "  inflating: student.txt             \n"
          ]
        }
      ]
    },
    {
      "cell_type": "markdown",
      "metadata": {
        "id": "BJutBtZZ_PMt"
      },
      "source": [
        "### File reading"
      ]
    },
    {
      "cell_type": "code",
      "metadata": {
        "id": "Kb46pRBlfe1n",
        "colab": {
          "base_uri": "https://localhost:8080/",
          "height": 163
        },
        "outputId": "348c9a54-836f-487d-9da1-3e485a3c01b8"
      },
      "source": [
        "stu_df = pd.read_csv(\"student-mat.csv\", sep=';')\n",
        "stu_df.head(3)"
      ],
      "execution_count": 68,
      "outputs": [
        {
          "output_type": "execute_result",
          "data": {
            "text/html": [
              "<div>\n",
              "<style scoped>\n",
              "    .dataframe tbody tr th:only-of-type {\n",
              "        vertical-align: middle;\n",
              "    }\n",
              "\n",
              "    .dataframe tbody tr th {\n",
              "        vertical-align: top;\n",
              "    }\n",
              "\n",
              "    .dataframe thead th {\n",
              "        text-align: right;\n",
              "    }\n",
              "</style>\n",
              "<table border=\"1\" class=\"dataframe\">\n",
              "  <thead>\n",
              "    <tr style=\"text-align: right;\">\n",
              "      <th></th>\n",
              "      <th>school</th>\n",
              "      <th>sex</th>\n",
              "      <th>age</th>\n",
              "      <th>address</th>\n",
              "      <th>famsize</th>\n",
              "      <th>Pstatus</th>\n",
              "      <th>Medu</th>\n",
              "      <th>Fedu</th>\n",
              "      <th>Mjob</th>\n",
              "      <th>Fjob</th>\n",
              "      <th>reason</th>\n",
              "      <th>guardian</th>\n",
              "      <th>traveltime</th>\n",
              "      <th>studytime</th>\n",
              "      <th>failures</th>\n",
              "      <th>schoolsup</th>\n",
              "      <th>famsup</th>\n",
              "      <th>paid</th>\n",
              "      <th>activities</th>\n",
              "      <th>nursery</th>\n",
              "      <th>higher</th>\n",
              "      <th>internet</th>\n",
              "      <th>romantic</th>\n",
              "      <th>famrel</th>\n",
              "      <th>freetime</th>\n",
              "      <th>goout</th>\n",
              "      <th>Dalc</th>\n",
              "      <th>Walc</th>\n",
              "      <th>health</th>\n",
              "      <th>absences</th>\n",
              "      <th>G1</th>\n",
              "      <th>G2</th>\n",
              "      <th>G3</th>\n",
              "    </tr>\n",
              "  </thead>\n",
              "  <tbody>\n",
              "    <tr>\n",
              "      <th>0</th>\n",
              "      <td>GP</td>\n",
              "      <td>F</td>\n",
              "      <td>18</td>\n",
              "      <td>U</td>\n",
              "      <td>GT3</td>\n",
              "      <td>A</td>\n",
              "      <td>4</td>\n",
              "      <td>4</td>\n",
              "      <td>at_home</td>\n",
              "      <td>teacher</td>\n",
              "      <td>course</td>\n",
              "      <td>mother</td>\n",
              "      <td>2</td>\n",
              "      <td>2</td>\n",
              "      <td>0</td>\n",
              "      <td>yes</td>\n",
              "      <td>no</td>\n",
              "      <td>no</td>\n",
              "      <td>no</td>\n",
              "      <td>yes</td>\n",
              "      <td>yes</td>\n",
              "      <td>no</td>\n",
              "      <td>no</td>\n",
              "      <td>4</td>\n",
              "      <td>3</td>\n",
              "      <td>4</td>\n",
              "      <td>1</td>\n",
              "      <td>1</td>\n",
              "      <td>3</td>\n",
              "      <td>6</td>\n",
              "      <td>5</td>\n",
              "      <td>6</td>\n",
              "      <td>6</td>\n",
              "    </tr>\n",
              "    <tr>\n",
              "      <th>1</th>\n",
              "      <td>GP</td>\n",
              "      <td>F</td>\n",
              "      <td>17</td>\n",
              "      <td>U</td>\n",
              "      <td>GT3</td>\n",
              "      <td>T</td>\n",
              "      <td>1</td>\n",
              "      <td>1</td>\n",
              "      <td>at_home</td>\n",
              "      <td>other</td>\n",
              "      <td>course</td>\n",
              "      <td>father</td>\n",
              "      <td>1</td>\n",
              "      <td>2</td>\n",
              "      <td>0</td>\n",
              "      <td>no</td>\n",
              "      <td>yes</td>\n",
              "      <td>no</td>\n",
              "      <td>no</td>\n",
              "      <td>no</td>\n",
              "      <td>yes</td>\n",
              "      <td>yes</td>\n",
              "      <td>no</td>\n",
              "      <td>5</td>\n",
              "      <td>3</td>\n",
              "      <td>3</td>\n",
              "      <td>1</td>\n",
              "      <td>1</td>\n",
              "      <td>3</td>\n",
              "      <td>4</td>\n",
              "      <td>5</td>\n",
              "      <td>5</td>\n",
              "      <td>6</td>\n",
              "    </tr>\n",
              "    <tr>\n",
              "      <th>2</th>\n",
              "      <td>GP</td>\n",
              "      <td>F</td>\n",
              "      <td>15</td>\n",
              "      <td>U</td>\n",
              "      <td>LE3</td>\n",
              "      <td>T</td>\n",
              "      <td>1</td>\n",
              "      <td>1</td>\n",
              "      <td>at_home</td>\n",
              "      <td>other</td>\n",
              "      <td>other</td>\n",
              "      <td>mother</td>\n",
              "      <td>1</td>\n",
              "      <td>2</td>\n",
              "      <td>3</td>\n",
              "      <td>yes</td>\n",
              "      <td>no</td>\n",
              "      <td>yes</td>\n",
              "      <td>no</td>\n",
              "      <td>yes</td>\n",
              "      <td>yes</td>\n",
              "      <td>yes</td>\n",
              "      <td>no</td>\n",
              "      <td>4</td>\n",
              "      <td>3</td>\n",
              "      <td>2</td>\n",
              "      <td>2</td>\n",
              "      <td>3</td>\n",
              "      <td>3</td>\n",
              "      <td>10</td>\n",
              "      <td>7</td>\n",
              "      <td>8</td>\n",
              "      <td>10</td>\n",
              "    </tr>\n",
              "  </tbody>\n",
              "</table>\n",
              "</div>"
            ],
            "text/plain": [
              "  school sex  age address famsize Pstatus  ...  Walc  health absences G1 G2  G3\n",
              "0     GP   F   18       U     GT3       A  ...     1       3        6  5  6   6\n",
              "1     GP   F   17       U     GT3       T  ...     1       3        4  5  5   6\n",
              "2     GP   F   15       U     LE3       T  ...     3       3       10  7  8  10\n",
              "\n",
              "[3 rows x 33 columns]"
            ]
          },
          "metadata": {},
          "execution_count": 68
        }
      ]
    },
    {
      "cell_type": "markdown",
      "metadata": {
        "id": "geMVm90l_JtB"
      },
      "source": [
        "### Slicing and Indexing"
      ]
    },
    {
      "cell_type": "code",
      "metadata": {
        "colab": {
          "base_uri": "https://localhost:8080/"
        },
        "id": "7AxQ_Tct35LP",
        "outputId": "d1eee7e4-7566-413a-c726-9d7a8673afdd"
      },
      "source": [
        "## Accessing a single column:\n",
        "stu_df['age']\n",
        "type(stu_df['age'])"
      ],
      "execution_count": 69,
      "outputs": [
        {
          "output_type": "execute_result",
          "data": {
            "text/plain": [
              "pandas.core.series.Series"
            ]
          },
          "metadata": {},
          "execution_count": 69
        }
      ]
    },
    {
      "cell_type": "code",
      "metadata": {
        "colab": {
          "base_uri": "https://localhost:8080/"
        },
        "id": "kY45j9ik4K1k",
        "outputId": "0df3a051-afd6-45bd-ec93-369936a1d1d5"
      },
      "source": [
        "stu_df.age"
      ],
      "execution_count": 70,
      "outputs": [
        {
          "output_type": "execute_result",
          "data": {
            "text/plain": [
              "0      18\n",
              "1      17\n",
              "2      15\n",
              "3      15\n",
              "4      16\n",
              "       ..\n",
              "390    20\n",
              "391    17\n",
              "392    21\n",
              "393    18\n",
              "394    19\n",
              "Name: age, Length: 395, dtype: int64"
            ]
          },
          "metadata": {},
          "execution_count": 70
        }
      ]
    },
    {
      "cell_type": "code",
      "metadata": {
        "colab": {
          "base_uri": "https://localhost:8080/",
          "height": 423
        },
        "id": "yvhYscL647JG",
        "outputId": "ce01989e-f9f3-4f98-a719-8c1327ce06f2"
      },
      "source": [
        "# cols = ['age', 'sex']\n",
        "# stu_df[cols]\n",
        "stu_df[['age', 'sex']]"
      ],
      "execution_count": 71,
      "outputs": [
        {
          "output_type": "execute_result",
          "data": {
            "text/html": [
              "<div>\n",
              "<style scoped>\n",
              "    .dataframe tbody tr th:only-of-type {\n",
              "        vertical-align: middle;\n",
              "    }\n",
              "\n",
              "    .dataframe tbody tr th {\n",
              "        vertical-align: top;\n",
              "    }\n",
              "\n",
              "    .dataframe thead th {\n",
              "        text-align: right;\n",
              "    }\n",
              "</style>\n",
              "<table border=\"1\" class=\"dataframe\">\n",
              "  <thead>\n",
              "    <tr style=\"text-align: right;\">\n",
              "      <th></th>\n",
              "      <th>age</th>\n",
              "      <th>sex</th>\n",
              "    </tr>\n",
              "  </thead>\n",
              "  <tbody>\n",
              "    <tr>\n",
              "      <th>0</th>\n",
              "      <td>18</td>\n",
              "      <td>F</td>\n",
              "    </tr>\n",
              "    <tr>\n",
              "      <th>1</th>\n",
              "      <td>17</td>\n",
              "      <td>F</td>\n",
              "    </tr>\n",
              "    <tr>\n",
              "      <th>2</th>\n",
              "      <td>15</td>\n",
              "      <td>F</td>\n",
              "    </tr>\n",
              "    <tr>\n",
              "      <th>3</th>\n",
              "      <td>15</td>\n",
              "      <td>F</td>\n",
              "    </tr>\n",
              "    <tr>\n",
              "      <th>4</th>\n",
              "      <td>16</td>\n",
              "      <td>F</td>\n",
              "    </tr>\n",
              "    <tr>\n",
              "      <th>...</th>\n",
              "      <td>...</td>\n",
              "      <td>...</td>\n",
              "    </tr>\n",
              "    <tr>\n",
              "      <th>390</th>\n",
              "      <td>20</td>\n",
              "      <td>M</td>\n",
              "    </tr>\n",
              "    <tr>\n",
              "      <th>391</th>\n",
              "      <td>17</td>\n",
              "      <td>M</td>\n",
              "    </tr>\n",
              "    <tr>\n",
              "      <th>392</th>\n",
              "      <td>21</td>\n",
              "      <td>M</td>\n",
              "    </tr>\n",
              "    <tr>\n",
              "      <th>393</th>\n",
              "      <td>18</td>\n",
              "      <td>M</td>\n",
              "    </tr>\n",
              "    <tr>\n",
              "      <th>394</th>\n",
              "      <td>19</td>\n",
              "      <td>M</td>\n",
              "    </tr>\n",
              "  </tbody>\n",
              "</table>\n",
              "<p>395 rows × 2 columns</p>\n",
              "</div>"
            ],
            "text/plain": [
              "     age sex\n",
              "0     18   F\n",
              "1     17   F\n",
              "2     15   F\n",
              "3     15   F\n",
              "4     16   F\n",
              "..   ...  ..\n",
              "390   20   M\n",
              "391   17   M\n",
              "392   21   M\n",
              "393   18   M\n",
              "394   19   M\n",
              "\n",
              "[395 rows x 2 columns]"
            ]
          },
          "metadata": {},
          "execution_count": 71
        }
      ]
    },
    {
      "cell_type": "code",
      "metadata": {
        "colab": {
          "base_uri": "https://localhost:8080/"
        },
        "id": "a5YW42995jQi",
        "outputId": "0797b091-67f7-43a6-ee36-48f7214f5dcb"
      },
      "source": [
        "stu_df[['age']]\n",
        "type(stu_df[['age']])"
      ],
      "execution_count": 72,
      "outputs": [
        {
          "output_type": "execute_result",
          "data": {
            "text/plain": [
              "pandas.core.frame.DataFrame"
            ]
          },
          "metadata": {},
          "execution_count": 72
        }
      ]
    },
    {
      "cell_type": "code",
      "metadata": {
        "colab": {
          "base_uri": "https://localhost:8080/"
        },
        "id": "MtmIl7vg4O1v",
        "outputId": "8658c692-5754-468a-c91b-9294a3b4b61d"
      },
      "source": [
        "stu_df.iloc[:, 2]"
      ],
      "execution_count": 73,
      "outputs": [
        {
          "output_type": "execute_result",
          "data": {
            "text/plain": [
              "0      18\n",
              "1      17\n",
              "2      15\n",
              "3      15\n",
              "4      16\n",
              "       ..\n",
              "390    20\n",
              "391    17\n",
              "392    21\n",
              "393    18\n",
              "394    19\n",
              "Name: age, Length: 395, dtype: int64"
            ]
          },
          "metadata": {},
          "execution_count": 73
        }
      ]
    },
    {
      "cell_type": "code",
      "metadata": {
        "colab": {
          "base_uri": "https://localhost:8080/"
        },
        "id": "G8RCvJyp4Z_s",
        "outputId": "2729da38-5982-4faf-901e-a53f3aac1178"
      },
      "source": [
        "print(stu_df[stu_df.columns[2]])\n",
        "## Why this works? What is happening exactly?\n",
        "print(stu_df.columns)\n",
        "print(stu_df.columns[2])"
      ],
      "execution_count": 74,
      "outputs": [
        {
          "output_type": "stream",
          "name": "stdout",
          "text": [
            "0      18\n",
            "1      17\n",
            "2      15\n",
            "3      15\n",
            "4      16\n",
            "       ..\n",
            "390    20\n",
            "391    17\n",
            "392    21\n",
            "393    18\n",
            "394    19\n",
            "Name: age, Length: 395, dtype: int64\n",
            "Index(['school', 'sex', 'age', 'address', 'famsize', 'Pstatus', 'Medu', 'Fedu',\n",
            "       'Mjob', 'Fjob', 'reason', 'guardian', 'traveltime', 'studytime',\n",
            "       'failures', 'schoolsup', 'famsup', 'paid', 'activities', 'nursery',\n",
            "       'higher', 'internet', 'romantic', 'famrel', 'freetime', 'goout', 'Dalc',\n",
            "       'Walc', 'health', 'absences', 'G1', 'G2', 'G3'],\n",
            "      dtype='object')\n",
            "age\n"
          ]
        }
      ]
    },
    {
      "cell_type": "code",
      "metadata": {
        "colab": {
          "base_uri": "https://localhost:8080/"
        },
        "id": "v3j7sNYn6ax7",
        "outputId": "f3cbf262-90df-4dca-dab9-417fda4e53dc"
      },
      "source": [
        "stu_df.loc[2]"
      ],
      "execution_count": 75,
      "outputs": [
        {
          "output_type": "execute_result",
          "data": {
            "text/plain": [
              "school             GP\n",
              "sex                 F\n",
              "age                15\n",
              "address             U\n",
              "famsize           LE3\n",
              "Pstatus             T\n",
              "Medu                1\n",
              "Fedu                1\n",
              "Mjob          at_home\n",
              "Fjob            other\n",
              "reason          other\n",
              "guardian       mother\n",
              "traveltime          1\n",
              "studytime           2\n",
              "failures            3\n",
              "schoolsup         yes\n",
              "famsup             no\n",
              "paid              yes\n",
              "activities         no\n",
              "nursery           yes\n",
              "higher            yes\n",
              "internet          yes\n",
              "romantic           no\n",
              "famrel              4\n",
              "freetime            3\n",
              "goout               2\n",
              "Dalc                2\n",
              "Walc                3\n",
              "health              3\n",
              "absences           10\n",
              "G1                  7\n",
              "G2                  8\n",
              "G3                 10\n",
              "Name: 2, dtype: object"
            ]
          },
          "metadata": {},
          "execution_count": 75
        }
      ]
    },
    {
      "cell_type": "code",
      "metadata": {
        "colab": {
          "base_uri": "https://localhost:8080/"
        },
        "id": "vnmSzV2b6x15",
        "outputId": "24f089c1-0beb-4ad9-91b0-3f9e5b717185"
      },
      "source": [
        "stu_df.iloc[0]"
      ],
      "execution_count": 76,
      "outputs": [
        {
          "output_type": "execute_result",
          "data": {
            "text/plain": [
              "school             GP\n",
              "sex                 F\n",
              "age                18\n",
              "address             U\n",
              "famsize           GT3\n",
              "Pstatus             A\n",
              "Medu                4\n",
              "Fedu                4\n",
              "Mjob          at_home\n",
              "Fjob          teacher\n",
              "reason         course\n",
              "guardian       mother\n",
              "traveltime          2\n",
              "studytime           2\n",
              "failures            0\n",
              "schoolsup         yes\n",
              "famsup             no\n",
              "paid               no\n",
              "activities         no\n",
              "nursery           yes\n",
              "higher            yes\n",
              "internet           no\n",
              "romantic           no\n",
              "famrel              4\n",
              "freetime            3\n",
              "goout               4\n",
              "Dalc                1\n",
              "Walc                1\n",
              "health              3\n",
              "absences            6\n",
              "G1                  5\n",
              "G2                  6\n",
              "G3                  6\n",
              "Name: 0, dtype: object"
            ]
          },
          "metadata": {},
          "execution_count": 76
        }
      ]
    },
    {
      "cell_type": "code",
      "metadata": {
        "colab": {
          "base_uri": "https://localhost:8080/"
        },
        "id": "ZRrjeioE69tC",
        "outputId": "d215ef69-4468-4e5b-bc5a-204ad12df81f"
      },
      "source": [
        "stu_df.age.value_counts()"
      ],
      "execution_count": 77,
      "outputs": [
        {
          "output_type": "execute_result",
          "data": {
            "text/plain": [
              "16    104\n",
              "17     98\n",
              "18     82\n",
              "15     82\n",
              "19     24\n",
              "20      3\n",
              "22      1\n",
              "21      1\n",
              "Name: age, dtype: int64"
            ]
          },
          "metadata": {},
          "execution_count": 77
        }
      ]
    },
    {
      "cell_type": "code",
      "metadata": {
        "colab": {
          "base_uri": "https://localhost:8080/"
        },
        "id": "jgDnjsgh7hyF",
        "outputId": "e9a1737a-a45e-40ca-a326-f073b3ffaf2b"
      },
      "source": [
        "stu_df.age.values\n",
        "## What data type is this?\n",
        "print(type(stu_df.age.values))"
      ],
      "execution_count": 78,
      "outputs": [
        {
          "output_type": "stream",
          "name": "stdout",
          "text": [
            "<class 'numpy.ndarray'>\n"
          ]
        }
      ]
    },
    {
      "cell_type": "code",
      "metadata": {
        "colab": {
          "base_uri": "https://localhost:8080/"
        },
        "id": "p5FFWNXk74Yt",
        "outputId": "bab7e42e-9172-43fb-e510-f5a88c5f4ffa"
      },
      "source": [
        "stu_df.age.values.tolist()\n",
        "## What data type is this?\n",
        "print(type(stu_df.age.values.tolist()))"
      ],
      "execution_count": 79,
      "outputs": [
        {
          "output_type": "stream",
          "name": "stdout",
          "text": [
            "<class 'list'>\n"
          ]
        }
      ]
    },
    {
      "cell_type": "markdown",
      "metadata": {
        "id": "OafaSSg8Np1M"
      },
      "source": [
        "Calculate the average age"
      ]
    },
    {
      "cell_type": "code",
      "metadata": {
        "colab": {
          "base_uri": "https://localhost:8080/"
        },
        "id": "1V-XXr3DIjX7",
        "outputId": "02512adb-9d16-4801-aed1-91f65c73eb23"
      },
      "source": [
        "stu_df.age.mean()"
      ],
      "execution_count": 80,
      "outputs": [
        {
          "output_type": "execute_result",
          "data": {
            "text/plain": [
              "16.696202531645568"
            ]
          },
          "metadata": {},
          "execution_count": 80
        }
      ]
    },
    {
      "cell_type": "code",
      "metadata": {
        "colab": {
          "base_uri": "https://localhost:8080/"
        },
        "id": "AR_tewVSIjM3",
        "outputId": "e233d56c-9d0b-4e35-9f4c-16c0b6ab9266"
      },
      "source": [
        "stu_df.dtypes"
      ],
      "execution_count": 81,
      "outputs": [
        {
          "output_type": "execute_result",
          "data": {
            "text/plain": [
              "school        object\n",
              "sex           object\n",
              "age            int64\n",
              "address       object\n",
              "famsize       object\n",
              "Pstatus       object\n",
              "Medu           int64\n",
              "Fedu           int64\n",
              "Mjob          object\n",
              "Fjob          object\n",
              "reason        object\n",
              "guardian      object\n",
              "traveltime     int64\n",
              "studytime      int64\n",
              "failures       int64\n",
              "schoolsup     object\n",
              "famsup        object\n",
              "paid          object\n",
              "activities    object\n",
              "nursery       object\n",
              "higher        object\n",
              "internet      object\n",
              "romantic      object\n",
              "famrel         int64\n",
              "freetime       int64\n",
              "goout          int64\n",
              "Dalc           int64\n",
              "Walc           int64\n",
              "health         int64\n",
              "absences       int64\n",
              "G1             int64\n",
              "G2             int64\n",
              "G3             int64\n",
              "dtype: object"
            ]
          },
          "metadata": {},
          "execution_count": 81
        }
      ]
    },
    {
      "cell_type": "code",
      "metadata": {
        "colab": {
          "base_uri": "https://localhost:8080/",
          "height": 320
        },
        "id": "6jrB6hcAIjCB",
        "outputId": "e9c36f0a-9291-4630-f925-aa23538251c3"
      },
      "source": [
        "stu_df.describe()"
      ],
      "execution_count": 82,
      "outputs": [
        {
          "output_type": "execute_result",
          "data": {
            "text/html": [
              "<div>\n",
              "<style scoped>\n",
              "    .dataframe tbody tr th:only-of-type {\n",
              "        vertical-align: middle;\n",
              "    }\n",
              "\n",
              "    .dataframe tbody tr th {\n",
              "        vertical-align: top;\n",
              "    }\n",
              "\n",
              "    .dataframe thead th {\n",
              "        text-align: right;\n",
              "    }\n",
              "</style>\n",
              "<table border=\"1\" class=\"dataframe\">\n",
              "  <thead>\n",
              "    <tr style=\"text-align: right;\">\n",
              "      <th></th>\n",
              "      <th>age</th>\n",
              "      <th>Medu</th>\n",
              "      <th>Fedu</th>\n",
              "      <th>traveltime</th>\n",
              "      <th>studytime</th>\n",
              "      <th>failures</th>\n",
              "      <th>famrel</th>\n",
              "      <th>freetime</th>\n",
              "      <th>goout</th>\n",
              "      <th>Dalc</th>\n",
              "      <th>Walc</th>\n",
              "      <th>health</th>\n",
              "      <th>absences</th>\n",
              "      <th>G1</th>\n",
              "      <th>G2</th>\n",
              "      <th>G3</th>\n",
              "    </tr>\n",
              "  </thead>\n",
              "  <tbody>\n",
              "    <tr>\n",
              "      <th>count</th>\n",
              "      <td>395.000000</td>\n",
              "      <td>395.000000</td>\n",
              "      <td>395.000000</td>\n",
              "      <td>395.000000</td>\n",
              "      <td>395.000000</td>\n",
              "      <td>395.000000</td>\n",
              "      <td>395.000000</td>\n",
              "      <td>395.000000</td>\n",
              "      <td>395.000000</td>\n",
              "      <td>395.000000</td>\n",
              "      <td>395.000000</td>\n",
              "      <td>395.000000</td>\n",
              "      <td>395.000000</td>\n",
              "      <td>395.000000</td>\n",
              "      <td>395.000000</td>\n",
              "      <td>395.000000</td>\n",
              "    </tr>\n",
              "    <tr>\n",
              "      <th>mean</th>\n",
              "      <td>16.696203</td>\n",
              "      <td>2.749367</td>\n",
              "      <td>2.521519</td>\n",
              "      <td>1.448101</td>\n",
              "      <td>2.035443</td>\n",
              "      <td>0.334177</td>\n",
              "      <td>3.944304</td>\n",
              "      <td>3.235443</td>\n",
              "      <td>3.108861</td>\n",
              "      <td>1.481013</td>\n",
              "      <td>2.291139</td>\n",
              "      <td>3.554430</td>\n",
              "      <td>5.708861</td>\n",
              "      <td>10.908861</td>\n",
              "      <td>10.713924</td>\n",
              "      <td>10.415190</td>\n",
              "    </tr>\n",
              "    <tr>\n",
              "      <th>std</th>\n",
              "      <td>1.276043</td>\n",
              "      <td>1.094735</td>\n",
              "      <td>1.088201</td>\n",
              "      <td>0.697505</td>\n",
              "      <td>0.839240</td>\n",
              "      <td>0.743651</td>\n",
              "      <td>0.896659</td>\n",
              "      <td>0.998862</td>\n",
              "      <td>1.113278</td>\n",
              "      <td>0.890741</td>\n",
              "      <td>1.287897</td>\n",
              "      <td>1.390303</td>\n",
              "      <td>8.003096</td>\n",
              "      <td>3.319195</td>\n",
              "      <td>3.761505</td>\n",
              "      <td>4.581443</td>\n",
              "    </tr>\n",
              "    <tr>\n",
              "      <th>min</th>\n",
              "      <td>15.000000</td>\n",
              "      <td>0.000000</td>\n",
              "      <td>0.000000</td>\n",
              "      <td>1.000000</td>\n",
              "      <td>1.000000</td>\n",
              "      <td>0.000000</td>\n",
              "      <td>1.000000</td>\n",
              "      <td>1.000000</td>\n",
              "      <td>1.000000</td>\n",
              "      <td>1.000000</td>\n",
              "      <td>1.000000</td>\n",
              "      <td>1.000000</td>\n",
              "      <td>0.000000</td>\n",
              "      <td>3.000000</td>\n",
              "      <td>0.000000</td>\n",
              "      <td>0.000000</td>\n",
              "    </tr>\n",
              "    <tr>\n",
              "      <th>25%</th>\n",
              "      <td>16.000000</td>\n",
              "      <td>2.000000</td>\n",
              "      <td>2.000000</td>\n",
              "      <td>1.000000</td>\n",
              "      <td>1.000000</td>\n",
              "      <td>0.000000</td>\n",
              "      <td>4.000000</td>\n",
              "      <td>3.000000</td>\n",
              "      <td>2.000000</td>\n",
              "      <td>1.000000</td>\n",
              "      <td>1.000000</td>\n",
              "      <td>3.000000</td>\n",
              "      <td>0.000000</td>\n",
              "      <td>8.000000</td>\n",
              "      <td>9.000000</td>\n",
              "      <td>8.000000</td>\n",
              "    </tr>\n",
              "    <tr>\n",
              "      <th>50%</th>\n",
              "      <td>17.000000</td>\n",
              "      <td>3.000000</td>\n",
              "      <td>2.000000</td>\n",
              "      <td>1.000000</td>\n",
              "      <td>2.000000</td>\n",
              "      <td>0.000000</td>\n",
              "      <td>4.000000</td>\n",
              "      <td>3.000000</td>\n",
              "      <td>3.000000</td>\n",
              "      <td>1.000000</td>\n",
              "      <td>2.000000</td>\n",
              "      <td>4.000000</td>\n",
              "      <td>4.000000</td>\n",
              "      <td>11.000000</td>\n",
              "      <td>11.000000</td>\n",
              "      <td>11.000000</td>\n",
              "    </tr>\n",
              "    <tr>\n",
              "      <th>75%</th>\n",
              "      <td>18.000000</td>\n",
              "      <td>4.000000</td>\n",
              "      <td>3.000000</td>\n",
              "      <td>2.000000</td>\n",
              "      <td>2.000000</td>\n",
              "      <td>0.000000</td>\n",
              "      <td>5.000000</td>\n",
              "      <td>4.000000</td>\n",
              "      <td>4.000000</td>\n",
              "      <td>2.000000</td>\n",
              "      <td>3.000000</td>\n",
              "      <td>5.000000</td>\n",
              "      <td>8.000000</td>\n",
              "      <td>13.000000</td>\n",
              "      <td>13.000000</td>\n",
              "      <td>14.000000</td>\n",
              "    </tr>\n",
              "    <tr>\n",
              "      <th>max</th>\n",
              "      <td>22.000000</td>\n",
              "      <td>4.000000</td>\n",
              "      <td>4.000000</td>\n",
              "      <td>4.000000</td>\n",
              "      <td>4.000000</td>\n",
              "      <td>3.000000</td>\n",
              "      <td>5.000000</td>\n",
              "      <td>5.000000</td>\n",
              "      <td>5.000000</td>\n",
              "      <td>5.000000</td>\n",
              "      <td>5.000000</td>\n",
              "      <td>5.000000</td>\n",
              "      <td>75.000000</td>\n",
              "      <td>19.000000</td>\n",
              "      <td>19.000000</td>\n",
              "      <td>20.000000</td>\n",
              "    </tr>\n",
              "  </tbody>\n",
              "</table>\n",
              "</div>"
            ],
            "text/plain": [
              "              age        Medu        Fedu  ...          G1          G2          G3\n",
              "count  395.000000  395.000000  395.000000  ...  395.000000  395.000000  395.000000\n",
              "mean    16.696203    2.749367    2.521519  ...   10.908861   10.713924   10.415190\n",
              "std      1.276043    1.094735    1.088201  ...    3.319195    3.761505    4.581443\n",
              "min     15.000000    0.000000    0.000000  ...    3.000000    0.000000    0.000000\n",
              "25%     16.000000    2.000000    2.000000  ...    8.000000    9.000000    8.000000\n",
              "50%     17.000000    3.000000    2.000000  ...   11.000000   11.000000   11.000000\n",
              "75%     18.000000    4.000000    3.000000  ...   13.000000   13.000000   14.000000\n",
              "max     22.000000    4.000000    4.000000  ...   19.000000   19.000000   20.000000\n",
              "\n",
              "[8 rows x 16 columns]"
            ]
          },
          "metadata": {},
          "execution_count": 82
        }
      ]
    },
    {
      "cell_type": "code",
      "metadata": {
        "colab": {
          "base_uri": "https://localhost:8080/"
        },
        "id": "oIug1RRdiw_O",
        "outputId": "13dc35cd-c092-4f89-ba65-71f1a23ad6bb"
      },
      "source": [
        "stu_df.school.value_counts()"
      ],
      "execution_count": 83,
      "outputs": [
        {
          "output_type": "execute_result",
          "data": {
            "text/plain": [
              "GP    349\n",
              "MS     46\n",
              "Name: school, dtype: int64"
            ]
          },
          "metadata": {},
          "execution_count": 83
        }
      ]
    },
    {
      "cell_type": "code",
      "metadata": {
        "colab": {
          "base_uri": "https://localhost:8080/"
        },
        "id": "7xa4RCR1xVB6",
        "outputId": "1236bbf9-9cd7-4b11-ddd1-f63c6e34bddb"
      },
      "source": [
        "stu_df.max()"
      ],
      "execution_count": null,
      "outputs": [
        {
          "output_type": "execute_result",
          "data": {
            "text/plain": [
              "school                MS\n",
              "sex                    M\n",
              "age                   22\n",
              "address                U\n",
              "famsize              LE3\n",
              "Pstatus                T\n",
              "Medu                   4\n",
              "Fedu                   4\n",
              "Mjob             teacher\n",
              "Fjob             teacher\n",
              "reason        reputation\n",
              "guardian           other\n",
              "traveltime             4\n",
              "studytime              4\n",
              "failures               3\n",
              "schoolsup            yes\n",
              "famsup               yes\n",
              "paid                 yes\n",
              "activities           yes\n",
              "nursery              yes\n",
              "higher               yes\n",
              "internet             yes\n",
              "romantic             yes\n",
              "famrel                 5\n",
              "freetime               5\n",
              "goout                  5\n",
              "Dalc                   5\n",
              "Walc                   5\n",
              "health                 5\n",
              "absences              75\n",
              "G1                    19\n",
              "G2                    19\n",
              "G3                    20\n",
              "dtype: object"
            ]
          },
          "metadata": {},
          "execution_count": 81
        }
      ]
    },
    {
      "cell_type": "markdown",
      "metadata": {
        "id": "9dBCQYToiyMu"
      },
      "source": [
        "**Q. Calculate min, max and avg on a column for a particular school.**"
      ]
    },
    {
      "cell_type": "code",
      "metadata": {
        "id": "O352AnWUi8GA",
        "colab": {
          "base_uri": "https://localhost:8080/"
        },
        "outputId": "8282ae8f-8b36-494a-8112-ee35140a0101"
      },
      "source": [
        "## Q. Calculate min, max and avg on a column for a particular school.\n",
        "# column age is selected here\n",
        "print(\"min of column age: \",stu_df[\"age\"].min())\n",
        "print(\"max of column age: \",stu_df[\"age\"].max())\n",
        "print(\"average of column age: \",stu_df[\"age\"].mean())"
      ],
      "execution_count": 84,
      "outputs": [
        {
          "output_type": "stream",
          "name": "stdout",
          "text": [
            "min of column age:  15\n",
            "max of column age:  22\n",
            "average of column age:  16.696202531645568\n"
          ]
        }
      ]
    },
    {
      "cell_type": "markdown",
      "metadata": {
        "id": "umDVqIY22UrU"
      },
      "source": [
        "**Q. Write a function to calculate min, max and mean / average of any column in a dataframe using loops.**\n",
        "\n",
        "Criteria:\n",
        "\n",
        "*   Do not use inbuilt functions\n",
        "*   The function should take the column name as argument and calculate for that column only\n",
        "*   Use a single loop to calculate min, max and average\n",
        "\n"
      ]
    },
    {
      "cell_type": "code",
      "metadata": {
        "id": "KHhgD9Fj2qfN",
        "colab": {
          "base_uri": "https://localhost:8080/"
        },
        "outputId": "3bea5c5b-e249-4ef5-9cf3-c023f40ca2fc"
      },
      "source": [
        "## Q. Write a function to calculate min, max and mean / average of any column in a dataframe.\n",
        "#column age is selected here\n",
        "list=stu_df[\"age\"].tolist()\n",
        "min=list[0]\n",
        "max=list[0]\n",
        "sum=0\n",
        "\n",
        "for i in range(len(list)):\n",
        "  if list[i]<min:\n",
        "    min=list[i]\n",
        "  if list[i]>max:\n",
        "    max=list[i]\n",
        "  sum=sum+list[i]\n",
        "\n",
        "print(\"min of column age is :\",min)\n",
        "print(\"max of column age is :\",max)\n",
        "print(\"avg of column age is :\",sum/len(list))\n"
      ],
      "execution_count": 85,
      "outputs": [
        {
          "output_type": "stream",
          "name": "stdout",
          "text": [
            "min of column age is : 15\n",
            "max of column age is : 22\n",
            "avg of column age is : 16.696202531645568\n"
          ]
        }
      ]
    },
    {
      "cell_type": "code",
      "metadata": {
        "colab": {
          "base_uri": "https://localhost:8080/"
        },
        "id": "hcJ3UAADIi2_",
        "outputId": "556832a0-f6e4-4744-94cf-7b518741abe1"
      },
      "source": [
        "stu_df.info()"
      ],
      "execution_count": 86,
      "outputs": [
        {
          "output_type": "stream",
          "name": "stdout",
          "text": [
            "<class 'pandas.core.frame.DataFrame'>\n",
            "RangeIndex: 395 entries, 0 to 394\n",
            "Data columns (total 33 columns):\n",
            " #   Column      Non-Null Count  Dtype \n",
            "---  ------      --------------  ----- \n",
            " 0   school      395 non-null    object\n",
            " 1   sex         395 non-null    object\n",
            " 2   age         395 non-null    int64 \n",
            " 3   address     395 non-null    object\n",
            " 4   famsize     395 non-null    object\n",
            " 5   Pstatus     395 non-null    object\n",
            " 6   Medu        395 non-null    int64 \n",
            " 7   Fedu        395 non-null    int64 \n",
            " 8   Mjob        395 non-null    object\n",
            " 9   Fjob        395 non-null    object\n",
            " 10  reason      395 non-null    object\n",
            " 11  guardian    395 non-null    object\n",
            " 12  traveltime  395 non-null    int64 \n",
            " 13  studytime   395 non-null    int64 \n",
            " 14  failures    395 non-null    int64 \n",
            " 15  schoolsup   395 non-null    object\n",
            " 16  famsup      395 non-null    object\n",
            " 17  paid        395 non-null    object\n",
            " 18  activities  395 non-null    object\n",
            " 19  nursery     395 non-null    object\n",
            " 20  higher      395 non-null    object\n",
            " 21  internet    395 non-null    object\n",
            " 22  romantic    395 non-null    object\n",
            " 23  famrel      395 non-null    int64 \n",
            " 24  freetime    395 non-null    int64 \n",
            " 25  goout       395 non-null    int64 \n",
            " 26  Dalc        395 non-null    int64 \n",
            " 27  Walc        395 non-null    int64 \n",
            " 28  health      395 non-null    int64 \n",
            " 29  absences    395 non-null    int64 \n",
            " 30  G1          395 non-null    int64 \n",
            " 31  G2          395 non-null    int64 \n",
            " 32  G3          395 non-null    int64 \n",
            "dtypes: int64(16), object(17)\n",
            "memory usage: 102.0+ KB\n"
          ]
        }
      ]
    },
    {
      "cell_type": "code",
      "metadata": {
        "id": "nxLdoeso3fUL",
        "colab": {
          "base_uri": "https://localhost:8080/",
          "height": 443
        },
        "outputId": "369aa0be-85d3-4c73-d58c-d3b845fa9b13"
      },
      "source": [
        "# stu_df.fillna(\"\")\n",
        "stu_df.dropna()"
      ],
      "execution_count": 87,
      "outputs": [
        {
          "output_type": "execute_result",
          "data": {
            "text/html": [
              "<div>\n",
              "<style scoped>\n",
              "    .dataframe tbody tr th:only-of-type {\n",
              "        vertical-align: middle;\n",
              "    }\n",
              "\n",
              "    .dataframe tbody tr th {\n",
              "        vertical-align: top;\n",
              "    }\n",
              "\n",
              "    .dataframe thead th {\n",
              "        text-align: right;\n",
              "    }\n",
              "</style>\n",
              "<table border=\"1\" class=\"dataframe\">\n",
              "  <thead>\n",
              "    <tr style=\"text-align: right;\">\n",
              "      <th></th>\n",
              "      <th>school</th>\n",
              "      <th>sex</th>\n",
              "      <th>age</th>\n",
              "      <th>address</th>\n",
              "      <th>famsize</th>\n",
              "      <th>Pstatus</th>\n",
              "      <th>Medu</th>\n",
              "      <th>Fedu</th>\n",
              "      <th>Mjob</th>\n",
              "      <th>Fjob</th>\n",
              "      <th>reason</th>\n",
              "      <th>guardian</th>\n",
              "      <th>traveltime</th>\n",
              "      <th>studytime</th>\n",
              "      <th>failures</th>\n",
              "      <th>schoolsup</th>\n",
              "      <th>famsup</th>\n",
              "      <th>paid</th>\n",
              "      <th>activities</th>\n",
              "      <th>nursery</th>\n",
              "      <th>higher</th>\n",
              "      <th>internet</th>\n",
              "      <th>romantic</th>\n",
              "      <th>famrel</th>\n",
              "      <th>freetime</th>\n",
              "      <th>goout</th>\n",
              "      <th>Dalc</th>\n",
              "      <th>Walc</th>\n",
              "      <th>health</th>\n",
              "      <th>absences</th>\n",
              "      <th>G1</th>\n",
              "      <th>G2</th>\n",
              "      <th>G3</th>\n",
              "    </tr>\n",
              "  </thead>\n",
              "  <tbody>\n",
              "    <tr>\n",
              "      <th>0</th>\n",
              "      <td>GP</td>\n",
              "      <td>F</td>\n",
              "      <td>18</td>\n",
              "      <td>U</td>\n",
              "      <td>GT3</td>\n",
              "      <td>A</td>\n",
              "      <td>4</td>\n",
              "      <td>4</td>\n",
              "      <td>at_home</td>\n",
              "      <td>teacher</td>\n",
              "      <td>course</td>\n",
              "      <td>mother</td>\n",
              "      <td>2</td>\n",
              "      <td>2</td>\n",
              "      <td>0</td>\n",
              "      <td>yes</td>\n",
              "      <td>no</td>\n",
              "      <td>no</td>\n",
              "      <td>no</td>\n",
              "      <td>yes</td>\n",
              "      <td>yes</td>\n",
              "      <td>no</td>\n",
              "      <td>no</td>\n",
              "      <td>4</td>\n",
              "      <td>3</td>\n",
              "      <td>4</td>\n",
              "      <td>1</td>\n",
              "      <td>1</td>\n",
              "      <td>3</td>\n",
              "      <td>6</td>\n",
              "      <td>5</td>\n",
              "      <td>6</td>\n",
              "      <td>6</td>\n",
              "    </tr>\n",
              "    <tr>\n",
              "      <th>1</th>\n",
              "      <td>GP</td>\n",
              "      <td>F</td>\n",
              "      <td>17</td>\n",
              "      <td>U</td>\n",
              "      <td>GT3</td>\n",
              "      <td>T</td>\n",
              "      <td>1</td>\n",
              "      <td>1</td>\n",
              "      <td>at_home</td>\n",
              "      <td>other</td>\n",
              "      <td>course</td>\n",
              "      <td>father</td>\n",
              "      <td>1</td>\n",
              "      <td>2</td>\n",
              "      <td>0</td>\n",
              "      <td>no</td>\n",
              "      <td>yes</td>\n",
              "      <td>no</td>\n",
              "      <td>no</td>\n",
              "      <td>no</td>\n",
              "      <td>yes</td>\n",
              "      <td>yes</td>\n",
              "      <td>no</td>\n",
              "      <td>5</td>\n",
              "      <td>3</td>\n",
              "      <td>3</td>\n",
              "      <td>1</td>\n",
              "      <td>1</td>\n",
              "      <td>3</td>\n",
              "      <td>4</td>\n",
              "      <td>5</td>\n",
              "      <td>5</td>\n",
              "      <td>6</td>\n",
              "    </tr>\n",
              "    <tr>\n",
              "      <th>2</th>\n",
              "      <td>GP</td>\n",
              "      <td>F</td>\n",
              "      <td>15</td>\n",
              "      <td>U</td>\n",
              "      <td>LE3</td>\n",
              "      <td>T</td>\n",
              "      <td>1</td>\n",
              "      <td>1</td>\n",
              "      <td>at_home</td>\n",
              "      <td>other</td>\n",
              "      <td>other</td>\n",
              "      <td>mother</td>\n",
              "      <td>1</td>\n",
              "      <td>2</td>\n",
              "      <td>3</td>\n",
              "      <td>yes</td>\n",
              "      <td>no</td>\n",
              "      <td>yes</td>\n",
              "      <td>no</td>\n",
              "      <td>yes</td>\n",
              "      <td>yes</td>\n",
              "      <td>yes</td>\n",
              "      <td>no</td>\n",
              "      <td>4</td>\n",
              "      <td>3</td>\n",
              "      <td>2</td>\n",
              "      <td>2</td>\n",
              "      <td>3</td>\n",
              "      <td>3</td>\n",
              "      <td>10</td>\n",
              "      <td>7</td>\n",
              "      <td>8</td>\n",
              "      <td>10</td>\n",
              "    </tr>\n",
              "    <tr>\n",
              "      <th>3</th>\n",
              "      <td>GP</td>\n",
              "      <td>F</td>\n",
              "      <td>15</td>\n",
              "      <td>U</td>\n",
              "      <td>GT3</td>\n",
              "      <td>T</td>\n",
              "      <td>4</td>\n",
              "      <td>2</td>\n",
              "      <td>health</td>\n",
              "      <td>services</td>\n",
              "      <td>home</td>\n",
              "      <td>mother</td>\n",
              "      <td>1</td>\n",
              "      <td>3</td>\n",
              "      <td>0</td>\n",
              "      <td>no</td>\n",
              "      <td>yes</td>\n",
              "      <td>yes</td>\n",
              "      <td>yes</td>\n",
              "      <td>yes</td>\n",
              "      <td>yes</td>\n",
              "      <td>yes</td>\n",
              "      <td>yes</td>\n",
              "      <td>3</td>\n",
              "      <td>2</td>\n",
              "      <td>2</td>\n",
              "      <td>1</td>\n",
              "      <td>1</td>\n",
              "      <td>5</td>\n",
              "      <td>2</td>\n",
              "      <td>15</td>\n",
              "      <td>14</td>\n",
              "      <td>15</td>\n",
              "    </tr>\n",
              "    <tr>\n",
              "      <th>4</th>\n",
              "      <td>GP</td>\n",
              "      <td>F</td>\n",
              "      <td>16</td>\n",
              "      <td>U</td>\n",
              "      <td>GT3</td>\n",
              "      <td>T</td>\n",
              "      <td>3</td>\n",
              "      <td>3</td>\n",
              "      <td>other</td>\n",
              "      <td>other</td>\n",
              "      <td>home</td>\n",
              "      <td>father</td>\n",
              "      <td>1</td>\n",
              "      <td>2</td>\n",
              "      <td>0</td>\n",
              "      <td>no</td>\n",
              "      <td>yes</td>\n",
              "      <td>yes</td>\n",
              "      <td>no</td>\n",
              "      <td>yes</td>\n",
              "      <td>yes</td>\n",
              "      <td>no</td>\n",
              "      <td>no</td>\n",
              "      <td>4</td>\n",
              "      <td>3</td>\n",
              "      <td>2</td>\n",
              "      <td>1</td>\n",
              "      <td>2</td>\n",
              "      <td>5</td>\n",
              "      <td>4</td>\n",
              "      <td>6</td>\n",
              "      <td>10</td>\n",
              "      <td>10</td>\n",
              "    </tr>\n",
              "    <tr>\n",
              "      <th>...</th>\n",
              "      <td>...</td>\n",
              "      <td>...</td>\n",
              "      <td>...</td>\n",
              "      <td>...</td>\n",
              "      <td>...</td>\n",
              "      <td>...</td>\n",
              "      <td>...</td>\n",
              "      <td>...</td>\n",
              "      <td>...</td>\n",
              "      <td>...</td>\n",
              "      <td>...</td>\n",
              "      <td>...</td>\n",
              "      <td>...</td>\n",
              "      <td>...</td>\n",
              "      <td>...</td>\n",
              "      <td>...</td>\n",
              "      <td>...</td>\n",
              "      <td>...</td>\n",
              "      <td>...</td>\n",
              "      <td>...</td>\n",
              "      <td>...</td>\n",
              "      <td>...</td>\n",
              "      <td>...</td>\n",
              "      <td>...</td>\n",
              "      <td>...</td>\n",
              "      <td>...</td>\n",
              "      <td>...</td>\n",
              "      <td>...</td>\n",
              "      <td>...</td>\n",
              "      <td>...</td>\n",
              "      <td>...</td>\n",
              "      <td>...</td>\n",
              "      <td>...</td>\n",
              "    </tr>\n",
              "    <tr>\n",
              "      <th>390</th>\n",
              "      <td>MS</td>\n",
              "      <td>M</td>\n",
              "      <td>20</td>\n",
              "      <td>U</td>\n",
              "      <td>LE3</td>\n",
              "      <td>A</td>\n",
              "      <td>2</td>\n",
              "      <td>2</td>\n",
              "      <td>services</td>\n",
              "      <td>services</td>\n",
              "      <td>course</td>\n",
              "      <td>other</td>\n",
              "      <td>1</td>\n",
              "      <td>2</td>\n",
              "      <td>2</td>\n",
              "      <td>no</td>\n",
              "      <td>yes</td>\n",
              "      <td>yes</td>\n",
              "      <td>no</td>\n",
              "      <td>yes</td>\n",
              "      <td>yes</td>\n",
              "      <td>no</td>\n",
              "      <td>no</td>\n",
              "      <td>5</td>\n",
              "      <td>5</td>\n",
              "      <td>4</td>\n",
              "      <td>4</td>\n",
              "      <td>5</td>\n",
              "      <td>4</td>\n",
              "      <td>11</td>\n",
              "      <td>9</td>\n",
              "      <td>9</td>\n",
              "      <td>9</td>\n",
              "    </tr>\n",
              "    <tr>\n",
              "      <th>391</th>\n",
              "      <td>MS</td>\n",
              "      <td>M</td>\n",
              "      <td>17</td>\n",
              "      <td>U</td>\n",
              "      <td>LE3</td>\n",
              "      <td>T</td>\n",
              "      <td>3</td>\n",
              "      <td>1</td>\n",
              "      <td>services</td>\n",
              "      <td>services</td>\n",
              "      <td>course</td>\n",
              "      <td>mother</td>\n",
              "      <td>2</td>\n",
              "      <td>1</td>\n",
              "      <td>0</td>\n",
              "      <td>no</td>\n",
              "      <td>no</td>\n",
              "      <td>no</td>\n",
              "      <td>no</td>\n",
              "      <td>no</td>\n",
              "      <td>yes</td>\n",
              "      <td>yes</td>\n",
              "      <td>no</td>\n",
              "      <td>2</td>\n",
              "      <td>4</td>\n",
              "      <td>5</td>\n",
              "      <td>3</td>\n",
              "      <td>4</td>\n",
              "      <td>2</td>\n",
              "      <td>3</td>\n",
              "      <td>14</td>\n",
              "      <td>16</td>\n",
              "      <td>16</td>\n",
              "    </tr>\n",
              "    <tr>\n",
              "      <th>392</th>\n",
              "      <td>MS</td>\n",
              "      <td>M</td>\n",
              "      <td>21</td>\n",
              "      <td>R</td>\n",
              "      <td>GT3</td>\n",
              "      <td>T</td>\n",
              "      <td>1</td>\n",
              "      <td>1</td>\n",
              "      <td>other</td>\n",
              "      <td>other</td>\n",
              "      <td>course</td>\n",
              "      <td>other</td>\n",
              "      <td>1</td>\n",
              "      <td>1</td>\n",
              "      <td>3</td>\n",
              "      <td>no</td>\n",
              "      <td>no</td>\n",
              "      <td>no</td>\n",
              "      <td>no</td>\n",
              "      <td>no</td>\n",
              "      <td>yes</td>\n",
              "      <td>no</td>\n",
              "      <td>no</td>\n",
              "      <td>5</td>\n",
              "      <td>5</td>\n",
              "      <td>3</td>\n",
              "      <td>3</td>\n",
              "      <td>3</td>\n",
              "      <td>3</td>\n",
              "      <td>3</td>\n",
              "      <td>10</td>\n",
              "      <td>8</td>\n",
              "      <td>7</td>\n",
              "    </tr>\n",
              "    <tr>\n",
              "      <th>393</th>\n",
              "      <td>MS</td>\n",
              "      <td>M</td>\n",
              "      <td>18</td>\n",
              "      <td>R</td>\n",
              "      <td>LE3</td>\n",
              "      <td>T</td>\n",
              "      <td>3</td>\n",
              "      <td>2</td>\n",
              "      <td>services</td>\n",
              "      <td>other</td>\n",
              "      <td>course</td>\n",
              "      <td>mother</td>\n",
              "      <td>3</td>\n",
              "      <td>1</td>\n",
              "      <td>0</td>\n",
              "      <td>no</td>\n",
              "      <td>no</td>\n",
              "      <td>no</td>\n",
              "      <td>no</td>\n",
              "      <td>no</td>\n",
              "      <td>yes</td>\n",
              "      <td>yes</td>\n",
              "      <td>no</td>\n",
              "      <td>4</td>\n",
              "      <td>4</td>\n",
              "      <td>1</td>\n",
              "      <td>3</td>\n",
              "      <td>4</td>\n",
              "      <td>5</td>\n",
              "      <td>0</td>\n",
              "      <td>11</td>\n",
              "      <td>12</td>\n",
              "      <td>10</td>\n",
              "    </tr>\n",
              "    <tr>\n",
              "      <th>394</th>\n",
              "      <td>MS</td>\n",
              "      <td>M</td>\n",
              "      <td>19</td>\n",
              "      <td>U</td>\n",
              "      <td>LE3</td>\n",
              "      <td>T</td>\n",
              "      <td>1</td>\n",
              "      <td>1</td>\n",
              "      <td>other</td>\n",
              "      <td>at_home</td>\n",
              "      <td>course</td>\n",
              "      <td>father</td>\n",
              "      <td>1</td>\n",
              "      <td>1</td>\n",
              "      <td>0</td>\n",
              "      <td>no</td>\n",
              "      <td>no</td>\n",
              "      <td>no</td>\n",
              "      <td>no</td>\n",
              "      <td>yes</td>\n",
              "      <td>yes</td>\n",
              "      <td>yes</td>\n",
              "      <td>no</td>\n",
              "      <td>3</td>\n",
              "      <td>2</td>\n",
              "      <td>3</td>\n",
              "      <td>3</td>\n",
              "      <td>3</td>\n",
              "      <td>5</td>\n",
              "      <td>5</td>\n",
              "      <td>8</td>\n",
              "      <td>9</td>\n",
              "      <td>9</td>\n",
              "    </tr>\n",
              "  </tbody>\n",
              "</table>\n",
              "<p>395 rows × 33 columns</p>\n",
              "</div>"
            ],
            "text/plain": [
              "    school sex  age address famsize Pstatus  ...  Walc  health absences  G1  G2  G3\n",
              "0       GP   F   18       U     GT3       A  ...     1       3        6   5   6   6\n",
              "1       GP   F   17       U     GT3       T  ...     1       3        4   5   5   6\n",
              "2       GP   F   15       U     LE3       T  ...     3       3       10   7   8  10\n",
              "3       GP   F   15       U     GT3       T  ...     1       5        2  15  14  15\n",
              "4       GP   F   16       U     GT3       T  ...     2       5        4   6  10  10\n",
              "..     ...  ..  ...     ...     ...     ...  ...   ...     ...      ...  ..  ..  ..\n",
              "390     MS   M   20       U     LE3       A  ...     5       4       11   9   9   9\n",
              "391     MS   M   17       U     LE3       T  ...     4       2        3  14  16  16\n",
              "392     MS   M   21       R     GT3       T  ...     3       3        3  10   8   7\n",
              "393     MS   M   18       R     LE3       T  ...     4       5        0  11  12  10\n",
              "394     MS   M   19       U     LE3       T  ...     3       5        5   8   9   9\n",
              "\n",
              "[395 rows x 33 columns]"
            ]
          },
          "metadata": {},
          "execution_count": 87
        }
      ]
    },
    {
      "cell_type": "markdown",
      "metadata": {
        "id": "OT5u9C65_WIt"
      },
      "source": [
        "### Plotting"
      ]
    },
    {
      "cell_type": "code",
      "metadata": {
        "colab": {
          "base_uri": "https://localhost:8080/",
          "height": 279
        },
        "id": "sqdQxiL79Za-",
        "outputId": "7bba7698-11b7-4bda-e8a0-365cf8ff7c85"
      },
      "source": [
        "import matplotlib.pyplot as plt\n",
        "import seaborn as sns\n",
        "\n",
        "sns.countplot(x=\"studytime\",data=stu_df)\n",
        "# plt.show()\n",
        "# sns.countplot(x=\"age\",data=stu_df)\n",
        "\n",
        "plt.show()"
      ],
      "execution_count": 88,
      "outputs": [
        {
          "output_type": "display_data",
          "data": {
            "image/png": "[encoded data removed]",
            "text/plain": [
              "<Figure size 432x288 with 1 Axes>"
            ]
          },
          "metadata": {
            "needs_background": "light"
          }
        }
      ]
    },
    {
      "cell_type": "code",
      "metadata": {
        "colab": {
          "base_uri": "https://localhost:8080/",
          "height": 320
        },
        "id": "yaBaQWt-8Zm4",
        "outputId": "3292e8c7-454b-4fa4-85bc-0929771c2741"
      },
      "source": [
        "stu_df.studytime.value_counts().plot.pie(figsize=(6, 5))"
      ],
      "execution_count": 89,
      "outputs": [
        {
          "output_type": "execute_result",
          "data": {
            "text/plain": [
              "<matplotlib.axes._subplots.AxesSubplot at 0x7f558dbd7650>"
            ]
          },
          "metadata": {},
          "execution_count": 89
        },
        {
          "output_type": "display_data",
          "data": {
            "image/png": "[encoded data removed]",
            "text/plain": [
              "<Figure size 432x360 with 1 Axes>"
            ]
          },
          "metadata": {}
        }
      ]
    },
    {
      "cell_type": "markdown",
      "metadata": {
        "id": "sQ6W2_QXI2Pg"
      },
      "source": [
        "For below part we will use [garment worker's productivity dataset](https://archive-beta.ics.uci.edu/ml/datasets/597).\n",
        "\n",
        "**Abstract:** This dataset includes important attributes of the garment manufacturing process and the productivity of the employees which had been collected manually and also been validated by the industry experts.\n",
        "\n",
        "Download and / or load this file using pandas library: [productivity of garments worker data](https://archive.ics.uci.edu/ml/machine-learning-databases/00597/garments_worker_productivity.csv)"
      ]
    },
    {
      "cell_type": "code",
      "metadata": {
        "colab": {
          "base_uri": "https://localhost:8080/",
          "height": 163
        },
        "id": "gGsNHsltHpBF",
        "outputId": "b0113402-69d8-42d1-fd98-08a7901216db"
      },
      "source": [
        "gwp_df = pd.read_csv('https://archive.ics.uci.edu/ml/machine-learning-databases/00597/garments_worker_productivity.csv')\n",
        "gwp_df.head(3)"
      ],
      "execution_count": 90,
      "outputs": [
        {
          "output_type": "execute_result",
          "data": {
            "text/html": [
              "<div>\n",
              "<style scoped>\n",
              "    .dataframe tbody tr th:only-of-type {\n",
              "        vertical-align: middle;\n",
              "    }\n",
              "\n",
              "    .dataframe tbody tr th {\n",
              "        vertical-align: top;\n",
              "    }\n",
              "\n",
              "    .dataframe thead th {\n",
              "        text-align: right;\n",
              "    }\n",
              "</style>\n",
              "<table border=\"1\" class=\"dataframe\">\n",
              "  <thead>\n",
              "    <tr style=\"text-align: right;\">\n",
              "      <th></th>\n",
              "      <th>date</th>\n",
              "      <th>quarter</th>\n",
              "      <th>department</th>\n",
              "      <th>day</th>\n",
              "      <th>team</th>\n",
              "      <th>targeted_productivity</th>\n",
              "      <th>smv</th>\n",
              "      <th>wip</th>\n",
              "      <th>over_time</th>\n",
              "      <th>incentive</th>\n",
              "      <th>idle_time</th>\n",
              "      <th>idle_men</th>\n",
              "      <th>no_of_style_change</th>\n",
              "      <th>no_of_workers</th>\n",
              "      <th>actual_productivity</th>\n",
              "    </tr>\n",
              "  </thead>\n",
              "  <tbody>\n",
              "    <tr>\n",
              "      <th>0</th>\n",
              "      <td>1/1/2015</td>\n",
              "      <td>Quarter1</td>\n",
              "      <td>sweing</td>\n",
              "      <td>Thursday</td>\n",
              "      <td>8</td>\n",
              "      <td>0.80</td>\n",
              "      <td>26.16</td>\n",
              "      <td>1108.0</td>\n",
              "      <td>7080</td>\n",
              "      <td>98</td>\n",
              "      <td>0.0</td>\n",
              "      <td>0</td>\n",
              "      <td>0</td>\n",
              "      <td>59.0</td>\n",
              "      <td>0.940725</td>\n",
              "    </tr>\n",
              "    <tr>\n",
              "      <th>1</th>\n",
              "      <td>1/1/2015</td>\n",
              "      <td>Quarter1</td>\n",
              "      <td>finishing</td>\n",
              "      <td>Thursday</td>\n",
              "      <td>1</td>\n",
              "      <td>0.75</td>\n",
              "      <td>3.94</td>\n",
              "      <td>NaN</td>\n",
              "      <td>960</td>\n",
              "      <td>0</td>\n",
              "      <td>0.0</td>\n",
              "      <td>0</td>\n",
              "      <td>0</td>\n",
              "      <td>8.0</td>\n",
              "      <td>0.886500</td>\n",
              "    </tr>\n",
              "    <tr>\n",
              "      <th>2</th>\n",
              "      <td>1/1/2015</td>\n",
              "      <td>Quarter1</td>\n",
              "      <td>sweing</td>\n",
              "      <td>Thursday</td>\n",
              "      <td>11</td>\n",
              "      <td>0.80</td>\n",
              "      <td>11.41</td>\n",
              "      <td>968.0</td>\n",
              "      <td>3660</td>\n",
              "      <td>50</td>\n",
              "      <td>0.0</td>\n",
              "      <td>0</td>\n",
              "      <td>0</td>\n",
              "      <td>30.5</td>\n",
              "      <td>0.800570</td>\n",
              "    </tr>\n",
              "  </tbody>\n",
              "</table>\n",
              "</div>"
            ],
            "text/plain": [
              "       date   quarter  ... no_of_workers actual_productivity\n",
              "0  1/1/2015  Quarter1  ...          59.0            0.940725\n",
              "1  1/1/2015  Quarter1  ...           8.0            0.886500\n",
              "2  1/1/2015  Quarter1  ...          30.5            0.800570\n",
              "\n",
              "[3 rows x 15 columns]"
            ]
          },
          "metadata": {},
          "execution_count": 90
        }
      ]
    },
    {
      "cell_type": "code",
      "metadata": {
        "colab": {
          "base_uri": "https://localhost:8080/",
          "height": 483
        },
        "id": "DdS1zdkU8Vje",
        "outputId": "7413a576-2335-4e46-a9db-23072bedb5d9"
      },
      "source": [
        "gwp_df.department.value_counts().plot.pie(figsize=(8, 8))"
      ],
      "execution_count": 91,
      "outputs": [
        {
          "output_type": "execute_result",
          "data": {
            "text/plain": [
              "<matplotlib.axes._subplots.AxesSubplot at 0x7f558d63a590>"
            ]
          },
          "metadata": {},
          "execution_count": 91
        },
        {
          "output_type": "display_data",
          "data": {
            "image/png": "[encoded data removed]",
            "text/plain": [
              "<Figure size 576x576 with 1 Axes>"
            ]
          },
          "metadata": {}
        }
      ]
    },
    {
      "cell_type": "markdown",
      "metadata": {
        "id": "wJ2lzxAT90M8"
      },
      "source": [
        "**Q. Create bar and pie charts for any of the column on this dataset.**"
      ]
    },
    {
      "cell_type": "code",
      "metadata": {
        "id": "0ohhORNp-EdK"
      },
      "source": [
        "## Q. Create bar and pie charts for any of the column on this dataset."
      ],
      "execution_count": 92,
      "outputs": []
    },
    {
      "cell_type": "code",
      "metadata": {
        "colab": {
          "base_uri": "https://localhost:8080/",
          "height": 483
        },
        "id": "3wB1ZCb41Zjg",
        "outputId": "39ef06a8-2fa8-494e-f4d6-3c011b485bcd"
      },
      "source": [
        "#pie chart on column team\n",
        "gwp_df.team.value_counts().plot.pie(figsize=(8, 8))"
      ],
      "execution_count": 93,
      "outputs": [
        {
          "output_type": "execute_result",
          "data": {
            "text/plain": [
              "<matplotlib.axes._subplots.AxesSubplot at 0x7f558d1749d0>"
            ]
          },
          "metadata": {},
          "execution_count": 93
        },
        {
          "output_type": "display_data",
          "data": {
            "image/png": "[encoded data removed]",
            "text/plain": [
              "<Figure size 576x576 with 1 Axes>"
            ]
          },
          "metadata": {}
        }
      ]
    },
    {
      "cell_type": "code",
      "metadata": {
        "colab": {
          "base_uri": "https://localhost:8080/",
          "height": 296
        },
        "id": "QodbFFRMd0S_",
        "outputId": "f423a1ec-24f3-49d2-ba2f-14a91e6c67df"
      },
      "source": [
        "#bar chart on column team\n",
        "import matplotlib.pyplot as plt\n",
        "import seaborn as sns\n",
        "\n",
        "sns.countplot(x=\"team\",data=gwp_df)"
      ],
      "execution_count": 112,
      "outputs": [
        {
          "output_type": "execute_result",
          "data": {
            "text/plain": [
              "<matplotlib.axes._subplots.AxesSubplot at 0x7f558db9fb90>"
            ]
          },
          "metadata": {},
          "execution_count": 112
        },
        {
          "output_type": "display_data",
          "data": {
            "image/png": "[encoded data removed]",
            "text/plain": [
              "<Figure size 432x288 with 1 Axes>"
            ]
          },
          "metadata": {
            "needs_background": "light"
          }
        }
      ]
    },
    {
      "cell_type": "code",
      "metadata": {
        "colab": {
          "base_uri": "https://localhost:8080/",
          "height": 280
        },
        "id": "rt3Gv1_a9eS3",
        "outputId": "dcee20d0-99ab-48b8-efc7-c43715c6ceee"
      },
      "source": [
        "plt.scatter(x = gwp_df[\"over_time\"] , y = gwp_df[\"actual_productivity\"])\n",
        "plt.xlabel(\"over_time\")\n",
        "plt.ylabel(\"actual_productivity\")\n",
        "plt.show()"
      ],
      "execution_count": 95,
      "outputs": [
        {
          "output_type": "display_data",
          "data": {
            "image/png": "[encoded data removed]",
            "text/plain": [
              "<Figure size 432x288 with 1 Axes>"
            ]
          },
          "metadata": {
            "needs_background": "light"
          }
        }
      ]
    },
    {
      "cell_type": "code",
      "metadata": {
        "colab": {
          "base_uri": "https://localhost:8080/",
          "height": 282
        },
        "id": "p4sP2cyj9h_8",
        "outputId": "fd073abb-b115-4362-bba3-f5f828c04909"
      },
      "source": [
        "counts, bins = np.histogram(gwp_df[\"actual_productivity\"], bins=5)\n",
        "print(counts, bins)\n",
        "plt.hist(bins[:-1], bins, weights=counts)\n",
        "plt.show()"
      ],
      "execution_count": 96,
      "outputs": [
        {
          "output_type": "stream",
          "name": "stdout",
          "text": [
            "[ 93 112 387 491 114] [0.23370548 0.41105188 0.58839829 0.76574469 0.9430911  1.1204375 ]\n"
          ]
        },
        {
          "output_type": "display_data",
          "data": {
            "image/png": "[encoded data removed]",
            "text/plain": [
              "<Figure size 432x288 with 1 Axes>"
            ]
          },
          "metadata": {
            "needs_background": "light"
          }
        }
      ]
    },
    {
      "cell_type": "markdown",
      "metadata": {
        "id": "1jCsvktHMtUU"
      },
      "source": [
        "Q6. Plot the relationship between `absences` and `G1` from student dataset:"
      ]
    },
    {
      "cell_type": "code",
      "metadata": {
        "id": "hmQQQKSRM32-",
        "colab": {
          "base_uri": "https://localhost:8080/",
          "height": 279
        },
        "outputId": "20e1538c-79f2-49b1-fceb-c86e8411601d"
      },
      "source": [
        "## Q6. Plot the relationship between `absences` and `G1` from student dataset:\n",
        "plt.scatter(x = stu_df[\"absences\"] , y = stu_df[\"G1\"])\n",
        "plt.xlabel(\"absences\")\n",
        "plt.ylabel(\"G1\")\n",
        "plt.show()"
      ],
      "execution_count": 97,
      "outputs": [
        {
          "output_type": "display_data",
          "data": {
            "image/png": "[encoded data removed]",
            "text/plain": [
              "<Figure size 432x288 with 1 Axes>"
            ]
          },
          "metadata": {
            "needs_background": "light"
          }
        }
      ]
    },
    {
      "cell_type": "markdown",
      "metadata": {
        "id": "dzNng6vCL9eP"
      },
      "source": [
        "#Numpy Tutorial"
      ]
    },
    {
      "cell_type": "markdown",
      "metadata": {
        "id": "0vJLt3JRL9eR"
      },
      "source": [
        "This tutorial is heavily influenced from [cs231n](https://cs231n.github.io/) course material."
      ]
    },
    {
      "cell_type": "markdown",
      "metadata": {
        "id": "3cfrOV4dL9hW"
      },
      "source": [
        "##Numpy"
      ]
    },
    {
      "cell_type": "markdown",
      "metadata": {
        "id": "fY12nHhyL9hX"
      },
      "source": [
        "Numpy is the core library for scientific computing in Python. It provides a high-performance multidimensional array object, and tools for working with these arrays. If you are already familiar with MATLAB, you might find this [tutorial](http://wiki.scipy.org/NumPy_for_Matlab_Users) useful to get started with Numpy."
      ]
    },
    {
      "cell_type": "markdown",
      "metadata": {
        "id": "lZMyAdqhL9hY"
      },
      "source": [
        "To use Numpy, we first need to import the `numpy` package:"
      ]
    },
    {
      "cell_type": "code",
      "metadata": {
        "id": "58QdX8BLL9hZ"
      },
      "source": [
        "import numpy as np"
      ],
      "execution_count": null,
      "outputs": []
    },
    {
      "cell_type": "markdown",
      "metadata": {
        "id": "DDx6v1EdL9hb"
      },
      "source": [
        "###Arrays"
      ]
    },
    {
      "cell_type": "markdown",
      "metadata": {
        "id": "f-Zv3f7LL9hc"
      },
      "source": [
        "A numpy array is a grid of values, all of the same type, and is indexed by a tuple of nonnegative integers. The number of dimensions is the rank of the array; the shape of an array is a tuple of integers giving the size of the array along each dimension."
      ]
    },
    {
      "cell_type": "markdown",
      "metadata": {
        "id": "_eMTRnZRL9hc"
      },
      "source": [
        "We can initialize numpy arrays from nested Python lists, and access elements using square brackets:"
      ]
    },
    {
      "cell_type": "code",
      "metadata": {
        "id": "-l3JrGxCL9hc",
        "colab": {
          "base_uri": "https://localhost:8080/"
        },
        "outputId": "7ef8930a-9e67-4de6-f8ca-3d80eeee242c"
      },
      "source": [
        "a = np.array([1, 2, 3])  # Create a rank 1 array\n",
        "print(type(a), a.shape, a[0], a[1], a[2])\n",
        "print(a)\n",
        "a[0] = 5                 # Change an element of the array\n",
        "print(a)       \n",
        "b = np.array([[1,2, 3],[3,4, 5]])    \n",
        "b.shape       \n",
        "print(a.T, a.T.shape)"
      ],
      "execution_count": null,
      "outputs": [
        {
          "output_type": "stream",
          "name": "stdout",
          "text": [
            "<class 'numpy.ndarray'> (3,) 1 2 3\n",
            "[1 2 3]\n",
            "[5 2 3]\n",
            "[5 2 3] (3,)\n"
          ]
        }
      ]
    },
    {
      "cell_type": "code",
      "metadata": {
        "id": "ma6mk-kdL9hh",
        "colab": {
          "base_uri": "https://localhost:8080/"
        },
        "outputId": "8bc2b4ad-c2e0-4a77-f86e-aab2e03c3bfa"
      },
      "source": [
        "b = np.array([[1,2,3],[4,5,6]])   # Create a rank 2 array\n",
        "print(b)\n",
        "b.T"
      ],
      "execution_count": null,
      "outputs": [
        {
          "output_type": "stream",
          "name": "stdout",
          "text": [
            "[[1 2 3]\n",
            " [4 5 6]]\n"
          ]
        },
        {
          "output_type": "execute_result",
          "data": {
            "text/plain": [
              "array([[1, 4],\n",
              "       [2, 5],\n",
              "       [3, 6]])"
            ]
          },
          "metadata": {},
          "execution_count": 115
        }
      ]
    },
    {
      "cell_type": "markdown",
      "metadata": {
        "id": "F2qwdyvuL9hn"
      },
      "source": [
        "Numpy also provides many functions to create arrays:"
      ]
    },
    {
      "cell_type": "code",
      "metadata": {
        "id": "mVTN_EBqL9hn",
        "colab": {
          "base_uri": "https://localhost:8080/"
        },
        "outputId": "1fc5281b-aa66-4496-def8-1d4e5f50aaa6"
      },
      "source": [
        "a = np.zeros((2,2))  # Create an array of all zeros\n",
        "print(a)"
      ],
      "execution_count": null,
      "outputs": [
        {
          "output_type": "stream",
          "name": "stdout",
          "text": [
            "[[0. 0.]\n",
            " [0. 0.]]\n"
          ]
        }
      ]
    },
    {
      "cell_type": "code",
      "metadata": {
        "id": "skiKlNmlL9h5",
        "colab": {
          "base_uri": "https://localhost:8080/"
        },
        "outputId": "161983e9-4536-418f-8bf0-46aafdf43849"
      },
      "source": [
        "b = np.ones((1,2))   # Create an array of all ones\n",
        "print(b)"
      ],
      "execution_count": null,
      "outputs": [
        {
          "output_type": "stream",
          "name": "stdout",
          "text": [
            "[[1. 1.]]\n"
          ]
        }
      ]
    },
    {
      "cell_type": "code",
      "metadata": {
        "id": "HtFsr03bL9h7",
        "colab": {
          "base_uri": "https://localhost:8080/"
        },
        "outputId": "8ad14d36-f865-48ce-bc0a-0adddd57a0be"
      },
      "source": [
        "c = np.full((2,2), 7) # Create a constant array\n",
        "print(c)"
      ],
      "execution_count": null,
      "outputs": [
        {
          "output_type": "stream",
          "name": "stdout",
          "text": [
            "[[7 7]\n",
            " [7 7]]\n"
          ]
        }
      ]
    },
    {
      "cell_type": "code",
      "metadata": {
        "id": "-QcALHvkL9h9",
        "colab": {
          "base_uri": "https://localhost:8080/"
        },
        "outputId": "5658eb03-fed7-4968-f8c7-4cbfc295d026"
      },
      "source": [
        "d = np.eye(5)        # Create a 2x2 identity matrix\n",
        "print(d)"
      ],
      "execution_count": null,
      "outputs": [
        {
          "output_type": "stream",
          "name": "stdout",
          "text": [
            "[[1. 0. 0. 0. 0.]\n",
            " [0. 1. 0. 0. 0.]\n",
            " [0. 0. 1. 0. 0.]\n",
            " [0. 0. 0. 1. 0.]\n",
            " [0. 0. 0. 0. 1.]]\n"
          ]
        }
      ]
    },
    {
      "cell_type": "code",
      "metadata": {
        "id": "RCpaYg9qL9iA",
        "colab": {
          "base_uri": "https://localhost:8080/"
        },
        "outputId": "a56794ab-a492-4cf6-d751-d4ca96ae2d33"
      },
      "source": [
        "e = np.random.random((2,2), ) # Create an array filled with random values\n",
        "print(e)"
      ],
      "execution_count": null,
      "outputs": [
        {
          "output_type": "stream",
          "name": "stdout",
          "text": [
            "[[0.94028715 0.13517919]\n",
            " [0.94216222 0.61516105]]\n"
          ]
        }
      ]
    },
    {
      "cell_type": "code",
      "metadata": {
        "colab": {
          "base_uri": "https://localhost:8080/"
        },
        "id": "AE4Dipud4ssI",
        "outputId": "02a0b7c3-b3c4-4058-90b2-408fb8ecd12e"
      },
      "source": [
        "help(np.random.random)"
      ],
      "execution_count": null,
      "outputs": [
        {
          "output_type": "stream",
          "name": "stdout",
          "text": [
            "Help on built-in function random:\n",
            "\n",
            "random(...) method of numpy.random.mtrand.RandomState instance\n",
            "    random(size=None)\n",
            "    \n",
            "    Return random floats in the half-open interval [0.0, 1.0). Alias for\n",
            "    `random_sample` to ease forward-porting to the new random API.\n",
            "\n"
          ]
        }
      ]
    },
    {
      "cell_type": "markdown",
      "metadata": {
        "id": "ZtPc4mQfg3lV"
      },
      "source": [
        "**Q. Write a function which returns a n-d array of size `(m,n)`**"
      ]
    },
    {
      "cell_type": "code",
      "metadata": {
        "id": "bC9rAOkHhHtV"
      },
      "source": [
        "# Q. Write a function which returns a n-d array of size (m,n)"
      ],
      "execution_count": 98,
      "outputs": []
    },
    {
      "cell_type": "code",
      "metadata": {
        "colab": {
          "base_uri": "https://localhost:8080/"
        },
        "id": "1QC9eWva5e5C",
        "outputId": "2690f632-77d4-4375-c7fa-124081136d80"
      },
      "source": [
        "m=int(input(\"No. of rows:\"))\n",
        "n=int(input(\"No. of columns:\"))\n",
        "np.random.random((m,n))"
      ],
      "execution_count": 99,
      "outputs": [
        {
          "name": "stdout",
          "output_type": "stream",
          "text": [
            "No. of rows:2\n",
            "No. of columns:3\n"
          ]
        },
        {
          "output_type": "execute_result",
          "data": {
            "text/plain": [
              "array([[0.38374837, 0.55323043, 0.85515965],\n",
              "       [0.8685398 , 0.08117082, 0.38165852]])"
            ]
          },
          "metadata": {},
          "execution_count": 99
        }
      ]
    },
    {
      "cell_type": "code",
      "metadata": {
        "id": "dIZb9Tm-54fO"
      },
      "source": [
        ""
      ],
      "execution_count": null,
      "outputs": []
    },
    {
      "cell_type": "markdown",
      "metadata": {
        "id": "jI5qcSDfL9iC"
      },
      "source": [
        "###Array indexing"
      ]
    },
    {
      "cell_type": "markdown",
      "metadata": {
        "id": "M-E4MUeVL9iC"
      },
      "source": [
        "Numpy offers several ways to index into arrays."
      ]
    },
    {
      "cell_type": "markdown",
      "metadata": {
        "id": "QYv4JyIEL9iD"
      },
      "source": [
        "Slicing: Similar to Python lists, numpy arrays can be sliced. Since arrays may be multidimensional, you must specify a slice for each dimension of the array:"
      ]
    },
    {
      "cell_type": "code",
      "metadata": {
        "id": "wLWA0udwL9iD",
        "colab": {
          "base_uri": "https://localhost:8080/"
        },
        "outputId": "d16ba173-28c3-4b6c-9895-843076075191"
      },
      "source": [
        "import numpy as np\n",
        "\n",
        "# Create the following rank 2 array with shape (3, 4)\n",
        "# [[ 1  2  3  4]\n",
        "#  [ 5  6  7  8]\n",
        "#  [ 9 10 11 12]]\n",
        "a = np.array([[1,2,3,4], [5,6,7,8], [9,10,11,12]])\n",
        "\n",
        "# Use slicing to pull out the subarray consisting of the first 2 rows\n",
        "# and columns 1 and 2; b is the following array of shape (2, 2):\n",
        "# [[2 3]\n",
        "#  [6 7]]\n",
        "b = a[:2, 1:3]\n",
        "print(b)"
      ],
      "execution_count": 107,
      "outputs": [
        {
          "output_type": "stream",
          "name": "stdout",
          "text": [
            "[[2 3]\n",
            " [6 7]]\n"
          ]
        }
      ]
    },
    {
      "cell_type": "markdown",
      "metadata": {
        "id": "chS7fA74RY8y"
      },
      "source": [
        "**Q. Slice bottom-left `(2,2)` array:**\n",
        "```\n",
        "[[ 5,  6],\n",
        "[ 9, 10]]\n",
        "```"
      ]
    },
    {
      "cell_type": "code",
      "metadata": {
        "id": "oZmaQjyORiRY",
        "colab": {
          "base_uri": "https://localhost:8080/"
        },
        "outputId": "fae51756-85d4-496a-cda6-ee6e70b48e1c"
      },
      "source": [
        "## Q. Slice bottom-left (2,2) array:\n",
        "b = a[1:3, 0:2]\n",
        "print(b)"
      ],
      "execution_count": 108,
      "outputs": [
        {
          "output_type": "stream",
          "name": "stdout",
          "text": [
            "[[ 5  6]\n",
            " [ 9 10]]\n"
          ]
        }
      ]
    },
    {
      "cell_type": "markdown",
      "metadata": {
        "id": "KahhtZKYL9iF"
      },
      "source": [
        "A slice of an array is a view into the same data, so modifying it will modify the original array."
      ]
    },
    {
      "cell_type": "code",
      "metadata": {
        "id": "1kmtaFHuL9iG",
        "colab": {
          "base_uri": "https://localhost:8080/"
        },
        "outputId": "e55a89a7-f724-4530-ef0f-46e06f016e77"
      },
      "source": [
        "print(a[0, 1])\n",
        "b[0, 0] = 77    # b[0, 0] is the same piece of data as a[0, 1]\n",
        "print(b)\n",
        "print(a[0, 1]) \n",
        "a"
      ],
      "execution_count": null,
      "outputs": [
        {
          "output_type": "stream",
          "name": "stdout",
          "text": [
            "77\n",
            "[[77  3]\n",
            " [ 6  7]]\n",
            "77\n"
          ]
        },
        {
          "output_type": "execute_result",
          "data": {
            "text/plain": [
              "array([[ 1, 77,  3,  4],\n",
              "       [ 5,  6,  7,  8],\n",
              "       [ 9, 10, 11, 12]])"
            ]
          },
          "metadata": {},
          "execution_count": 37
        }
      ]
    },
    {
      "cell_type": "markdown",
      "metadata": {
        "id": "VP3916bOL9iP"
      },
      "source": [
        "Integer array indexing: When you index into numpy arrays using slicing, the resulting array view will always be a subarray of the original array. In contrast, integer array indexing allows you to construct arbitrary arrays using the data from another array. Here is an example:"
      ]
    },
    {
      "cell_type": "code",
      "metadata": {
        "id": "TBnWonIDL9iP",
        "colab": {
          "base_uri": "https://localhost:8080/"
        },
        "outputId": "932e527c-3bad-418a-b539-af1539168bf8"
      },
      "source": [
        "a = np.array([[1,2], [3, 4], [5, 6]])\n",
        "\n",
        "# An example of integer array indexing.\n",
        "# The returned array will have shape (3,) and \n",
        "print(a[[0, 1, 2], [0, 1, 0]])\n",
        "\n",
        "# The above example of integer array indexing is equivalent to this:\n",
        "print(np.array([a[0, 0], a[1, 1], a[2, 0]]))"
      ],
      "execution_count": null,
      "outputs": [
        {
          "output_type": "stream",
          "name": "stdout",
          "text": [
            "[1 4 5]\n",
            "[1 4 5]\n"
          ]
        }
      ]
    },
    {
      "cell_type": "code",
      "metadata": {
        "colab": {
          "base_uri": "https://localhost:8080/"
        },
        "id": "U00gzSsqYfQR",
        "outputId": "d3cd0880-74a6-4c8f-f0b7-11a0f0b60d19"
      },
      "source": [
        "a"
      ],
      "execution_count": null,
      "outputs": [
        {
          "output_type": "execute_result",
          "data": {
            "text/plain": [
              "array([[1, 2],\n",
              "       [3, 4],\n",
              "       [5, 6]])"
            ]
          },
          "metadata": {},
          "execution_count": 40
        }
      ]
    },
    {
      "cell_type": "code",
      "metadata": {
        "colab": {
          "base_uri": "https://localhost:8080/"
        },
        "id": "syOreyUTYncZ",
        "outputId": "db9d95dd-a683-4a6b-de1a-f5b14e3b024f"
      },
      "source": [
        "b = np.array([[True, False], \n",
        "              [False, True], \n",
        "              [True, False]])\n",
        "a[b]"
      ],
      "execution_count": null,
      "outputs": [
        {
          "output_type": "execute_result",
          "data": {
            "text/plain": [
              "array([1, 4, 5])"
            ]
          },
          "metadata": {},
          "execution_count": 48
        }
      ]
    },
    {
      "cell_type": "code",
      "metadata": {
        "colab": {
          "base_uri": "https://localhost:8080/"
        },
        "id": "qDiu4RANZL_U",
        "outputId": "840d0f44-0bca-4813-da30-c111b7d66bba"
      },
      "source": [
        "bool_idx = (a > 2) \n",
        "bool_idx"
      ],
      "execution_count": null,
      "outputs": [
        {
          "output_type": "execute_result",
          "data": {
            "text/plain": [
              "array([[False, False],\n",
              "       [ True,  True],\n",
              "       [ True,  True]])"
            ]
          },
          "metadata": {},
          "execution_count": 49
        }
      ]
    },
    {
      "cell_type": "markdown",
      "metadata": {
        "id": "kaE8dBGgL9id"
      },
      "source": [
        "Boolean array indexing: Boolean array indexing lets you pick out arbitrary elements of an array. Frequently this type of indexing is used to select the elements of an array that satisfy some condition. Here is an example:"
      ]
    },
    {
      "cell_type": "code",
      "metadata": {
        "id": "32PusjtKL9id",
        "colab": {
          "base_uri": "https://localhost:8080/"
        },
        "outputId": "a8e4616d-0000-4d68-a21c-d5f5290bd697"
      },
      "source": [
        "import numpy as np\n",
        "\n",
        "a = np.array([[1,2], [3, 4], [5, 6]])\n",
        "\n",
        "bool_idx = (a > 2)  # Find the elements of a that are bigger than 2;\n",
        "                    # this returns a numpy array of Booleans of the same\n",
        "                    # shape as a, where each slot of bool_idx tells\n",
        "                    # whether that element of a is > 2.\n",
        "\n",
        "print(bool_idx)"
      ],
      "execution_count": 104,
      "outputs": [
        {
          "output_type": "stream",
          "name": "stdout",
          "text": [
            "[[False False]\n",
            " [ True  True]\n",
            " [ True  True]]\n"
          ]
        }
      ]
    },
    {
      "cell_type": "code",
      "metadata": {
        "id": "cb2IRMXaL9if",
        "colab": {
          "base_uri": "https://localhost:8080/"
        },
        "outputId": "a6e60fd1-42c7-4a7e-84a2-c019317068b9"
      },
      "source": [
        "# We use boolean array indexing to construct a rank 1 array\n",
        "# consisting of the elements of a corresponding to the True values\n",
        "# of bool_idx\n",
        "print(a[bool_idx])\n",
        "\n",
        "# We can do all of the above in a single concise statement:\n",
        "print(a[a > 2])"
      ],
      "execution_count": null,
      "outputs": [
        {
          "output_type": "stream",
          "name": "stdout",
          "text": [
            "[3 4 5 6]\n",
            "[3 4 5 6]\n"
          ]
        }
      ]
    },
    {
      "cell_type": "markdown",
      "metadata": {
        "id": "CdofMonAL9ih"
      },
      "source": [
        "For brevity we have left out a lot of details about numpy array indexing; if you want to know more you should read the documentation."
      ]
    },
    {
      "cell_type": "markdown",
      "metadata": {
        "id": "jTctwqdQL9ih"
      },
      "source": [
        "###Datatypes"
      ]
    },
    {
      "cell_type": "markdown",
      "metadata": {
        "id": "kSZQ1WkIL9ih"
      },
      "source": [
        "Every numpy array is a grid of elements of the same type. Numpy provides a large set of numeric datatypes that you can use to construct arrays. Numpy tries to guess a datatype when you create an array, but functions that construct arrays usually also include an optional argument to explicitly specify the datatype. Here is an example:"
      ]
    },
    {
      "cell_type": "code",
      "metadata": {
        "id": "4za4O0m5L9ih",
        "colab": {
          "base_uri": "https://localhost:8080/"
        },
        "outputId": "a16f58cc-fd76-41a3-cf60-dcf9052c5173"
      },
      "source": [
        "x = np.array([1, 2])  # Let numpy choose the datatype\n",
        "y = np.array([1.0, 2.0])  # Let numpy choose the datatype\n",
        "z = np.array([1, 2], dtype=np.int64)  # Force a particular datatype\n",
        "\n",
        "print(x.dtype, y.dtype, z.dtype)"
      ],
      "execution_count": null,
      "outputs": [
        {
          "output_type": "stream",
          "name": "stdout",
          "text": [
            "int64 float64 int64\n"
          ]
        }
      ]
    },
    {
      "cell_type": "markdown",
      "metadata": {
        "id": "RLVIsZQpL9ik"
      },
      "source": [
        "You can read all about numpy datatypes in the [documentation](http://docs.scipy.org/doc/numpy/reference/arrays.dtypes.html)."
      ]
    },
    {
      "cell_type": "markdown",
      "metadata": {
        "id": "TuB-fdhIL9ik"
      },
      "source": [
        "###Array math"
      ]
    },
    {
      "cell_type": "markdown",
      "metadata": {
        "id": "18e8V8elL9ik"
      },
      "source": [
        "Basic mathematical functions operate elementwise on arrays, and are available both as operator overloads and as functions in the numpy module:"
      ]
    },
    {
      "cell_type": "code",
      "metadata": {
        "id": "gHKvBrSKL9il",
        "colab": {
          "base_uri": "https://localhost:8080/"
        },
        "outputId": "b99959dc-a439-47cc-c58d-6e44f8c8b296"
      },
      "source": [
        "x = np.array([[1,2],[3,4]], dtype=np.float64)\n",
        "y = np.array([[5,6],[7,8]], dtype=np.float64)\n",
        "\n",
        "# Elementwise sum; both produce the array\n",
        "print(x + y)\n",
        "print(np.add(x, y))"
      ],
      "execution_count": null,
      "outputs": [
        {
          "output_type": "stream",
          "name": "stdout",
          "text": [
            "[[ 6.  8.]\n",
            " [10. 12.]]\n",
            "[[ 6.  8.]\n",
            " [10. 12.]]\n"
          ]
        }
      ]
    },
    {
      "cell_type": "code",
      "metadata": {
        "id": "1fZtIAMxL9in",
        "colab": {
          "base_uri": "https://localhost:8080/"
        },
        "outputId": "04b0f547-2963-4449-a5a5-e0706471a72b"
      },
      "source": [
        "# Elementwise difference; both produce the array\n",
        "print(x - y)\n",
        "print(np.subtract(x, y))"
      ],
      "execution_count": null,
      "outputs": [
        {
          "output_type": "stream",
          "name": "stdout",
          "text": [
            "[[-4. -4.]\n",
            " [-4. -4.]]\n",
            "[[-4. -4.]\n",
            " [-4. -4.]]\n"
          ]
        }
      ]
    },
    {
      "cell_type": "code",
      "metadata": {
        "id": "nil4AScML9io",
        "colab": {
          "base_uri": "https://localhost:8080/"
        },
        "outputId": "4ba26c04-d4a1-4bc3-9cdd-0ef134516de8"
      },
      "source": [
        "# Elementwise product; both produce the array\n",
        "print(x * y)\n",
        "print(np.multiply(x, y))"
      ],
      "execution_count": null,
      "outputs": [
        {
          "output_type": "stream",
          "name": "stdout",
          "text": [
            "[[ 5. 12.]\n",
            " [21. 32.]]\n",
            "[[ 5. 12.]\n",
            " [21. 32.]]\n"
          ]
        }
      ]
    },
    {
      "cell_type": "code",
      "metadata": {
        "id": "0JoA4lH6L9ip",
        "colab": {
          "base_uri": "https://localhost:8080/"
        },
        "outputId": "176b876e-49b9-45e9-9804-395b617ea00e"
      },
      "source": [
        "# Elementwise division; both produce the array\n",
        "# [[ 0.2         0.33333333]\n",
        "#  [ 0.42857143  0.5       ]]\n",
        "print(x / y)\n",
        "print(np.divide(x, y))"
      ],
      "execution_count": null,
      "outputs": [
        {
          "output_type": "stream",
          "name": "stdout",
          "text": [
            "[[0.2        0.33333333]\n",
            " [0.42857143 0.5       ]]\n",
            "[[0.2        0.33333333]\n",
            " [0.42857143 0.5       ]]\n"
          ]
        }
      ]
    },
    {
      "cell_type": "code",
      "metadata": {
        "id": "g0iZuA6bL9ir",
        "colab": {
          "base_uri": "https://localhost:8080/"
        },
        "outputId": "4cb663b3-b29e-40f5-d525-221bd61e54d5"
      },
      "source": [
        "# Elementwise square root; produces the array\n",
        "# [[ 1.          1.41421356]\n",
        "#  [ 1.73205081  2.        ]]\n",
        "print(np.sqrt(x))"
      ],
      "execution_count": null,
      "outputs": [
        {
          "output_type": "stream",
          "name": "stdout",
          "text": [
            "[[1.         1.41421356]\n",
            " [1.73205081 2.        ]]\n"
          ]
        }
      ]
    },
    {
      "cell_type": "markdown",
      "metadata": {
        "id": "a5d_uujuL9it"
      },
      "source": [
        "Note that unlike MATLAB, `*` is elementwise multiplication, not matrix multiplication. We instead use the dot function to compute inner products of vectors, to multiply a vector by a matrix, and to multiply matrices. dot is available both as a function in the numpy module and as an instance method of array objects:"
      ]
    },
    {
      "cell_type": "code",
      "metadata": {
        "id": "I3FnmoSeL9iu",
        "colab": {
          "base_uri": "https://localhost:8080/"
        },
        "outputId": "0efa7305-f495-4706-a97e-30b898b985ba"
      },
      "source": [
        "x = np.array([[1,2],[3,4]])\n",
        "y = np.array([[5,6],[7,8]])\n",
        "\n",
        "v = np.array([9,10])\n",
        "w = np.array([11, 12])\n",
        "\n",
        "# Inner product of vectors; both produce 219\n",
        "print(v.dot(w))\n",
        "print(np.dot(v, w))"
      ],
      "execution_count": null,
      "outputs": [
        {
          "output_type": "stream",
          "name": "stdout",
          "text": [
            "219\n",
            "219\n"
          ]
        }
      ]
    },
    {
      "cell_type": "markdown",
      "metadata": {
        "id": "vmxPbrHASVeA"
      },
      "source": [
        "You can also use the `@` operator which is equivalent to numpy's `dot` operator."
      ]
    },
    {
      "cell_type": "code",
      "metadata": {
        "id": "vyrWA-mXSdtt",
        "colab": {
          "base_uri": "https://localhost:8080/"
        },
        "outputId": "ecdde11c-fa9d-4209-8b0b-a0054b339352"
      },
      "source": [
        "print(v @ w)"
      ],
      "execution_count": null,
      "outputs": [
        {
          "output_type": "stream",
          "name": "stdout",
          "text": [
            "219\n"
          ]
        }
      ]
    },
    {
      "cell_type": "code",
      "metadata": {
        "colab": {
          "base_uri": "https://localhost:8080/"
        },
        "id": "kuW1NIkHVlfI",
        "outputId": "8254205b-9548-4a4f-bede-7b128081cb53"
      },
      "source": [
        "x.shape, v.shape, x.dot(v).shape"
      ],
      "execution_count": null,
      "outputs": [
        {
          "output_type": "execute_result",
          "data": {
            "text/plain": [
              "((2, 2), (2,), (2,))"
            ]
          },
          "metadata": {},
          "execution_count": 64
        }
      ]
    },
    {
      "cell_type": "code",
      "metadata": {
        "id": "zvUODeTxL9iw",
        "colab": {
          "base_uri": "https://localhost:8080/"
        },
        "outputId": "dbbdabbf-4982-4cf5-92a8-592ec690847d"
      },
      "source": [
        "# Matrix / vector product; both produce the rank 1 array [29 67]\n",
        "print(x.dot(v))\n",
        "print(np.dot(x, v))\n",
        "print(x @ v)"
      ],
      "execution_count": null,
      "outputs": [
        {
          "output_type": "stream",
          "name": "stdout",
          "text": [
            "[29 67]\n",
            "[29 67]\n",
            "[29 67]\n"
          ]
        }
      ]
    },
    {
      "cell_type": "code",
      "metadata": {
        "id": "3V_3NzNEL9iy",
        "colab": {
          "base_uri": "https://localhost:8080/"
        },
        "outputId": "fa2af76f-6357-4693-a202-b6367dc7b5b3"
      },
      "source": [
        "# Matrix / matrix product; both produce the rank 2 array\n",
        "# [[19 22]\n",
        "#  [43 50]]\n",
        "print(x.dot(y))\n",
        "print(np.dot(x, y))\n",
        "print(x @ y)"
      ],
      "execution_count": null,
      "outputs": [
        {
          "output_type": "stream",
          "name": "stdout",
          "text": [
            "[[19 22]\n",
            " [43 50]]\n",
            "[[19 22]\n",
            " [43 50]]\n",
            "[[19 22]\n",
            " [43 50]]\n"
          ]
        }
      ]
    },
    {
      "cell_type": "markdown",
      "metadata": {
        "id": "slvRbcnlkGIK"
      },
      "source": [
        "**Q. Randomly generate 2 2d-array and take their doc product**"
      ]
    },
    {
      "cell_type": "code",
      "metadata": {
        "id": "Y3NZawO9kS5F",
        "colab": {
          "base_uri": "https://localhost:8080/"
        },
        "outputId": "ac6e19d1-84dc-45dd-d18a-83f78b22ef6d"
      },
      "source": [
        "# Q. Randomly generate 2 2d-array and take their doc product\n",
        "import numpy as np\n",
        "n=int(input(\"Enter n value for two nxn matrices:\"))\n",
        "a=np.random.randint(10,size=(n,n))\n",
        "b=np.random.randint(10,size=(n,n))\n",
        "print(\"array a is:\")\n",
        "print(a)\n",
        "print(\"array b is:\")\n",
        "print(b)\n",
        "print(\"dot product is:\")\n",
        "np.dot(a,b)\n"
      ],
      "execution_count": 105,
      "outputs": [
        {
          "output_type": "stream",
          "name": "stdout",
          "text": [
            "Enter n value for two nxn matrices:3\n",
            "array a is:\n",
            "[[7 6 3]\n",
            " [6 4 1]\n",
            " [3 0 8]]\n",
            "array b is:\n",
            "[[2 1 2]\n",
            " [3 3 9]\n",
            " [8 9 6]]\n",
            "dot product is:\n"
          ]
        },
        {
          "output_type": "execute_result",
          "data": {
            "text/plain": [
              "array([[56, 52, 86],\n",
              "       [32, 27, 54],\n",
              "       [70, 75, 54]])"
            ]
          },
          "metadata": {},
          "execution_count": 105
        }
      ]
    },
    {
      "cell_type": "markdown",
      "metadata": {
        "id": "FbE-1If_L9i0"
      },
      "source": [
        "Numpy provides many useful functions for performing computations on arrays; one of the most useful is `sum`:"
      ]
    },
    {
      "cell_type": "code",
      "metadata": {
        "id": "DZUdZvPrL9i0",
        "colab": {
          "base_uri": "https://localhost:8080/"
        },
        "outputId": "52c53ae1-d71f-47aa-fe05-e6c410db1d0d"
      },
      "source": [
        "x = np.array([[1,2],[3,4]])\n",
        "\n",
        "print(np.sum(x))  # Compute sum of all elements; prints \"10\"\n",
        "print(np.sum(x, axis=0))  # Compute sum of each column; prints \"[4 6]\"\n",
        "print(np.sum(x, axis=1))  # Compute sum of each row; prints \"[3 7]\""
      ],
      "execution_count": null,
      "outputs": [
        {
          "output_type": "stream",
          "name": "stdout",
          "text": [
            "10\n",
            "[4 6]\n",
            "[3 7]\n"
          ]
        }
      ]
    },
    {
      "cell_type": "markdown",
      "metadata": {
        "id": "ahdVW4iUL9i3"
      },
      "source": [
        "You can find the full list of mathematical functions provided by numpy in the [documentation](http://docs.scipy.org/doc/numpy/reference/routines.math.html).\n",
        "\n",
        "Apart from computing mathematical functions using arrays, we frequently need to reshape or otherwise manipulate data in arrays. The simplest example of this type of operation is transposing a matrix; to transpose a matrix, simply use the T attribute of an array object:"
      ]
    },
    {
      "cell_type": "code",
      "metadata": {
        "id": "63Yl1f3oL9i3",
        "colab": {
          "base_uri": "https://localhost:8080/"
        },
        "outputId": "e5504b44-3826-4554-e673-79d29ed14c09"
      },
      "source": [
        "print(x)\n",
        "print(\"transpose\\n\", x.T)"
      ],
      "execution_count": null,
      "outputs": [
        {
          "output_type": "stream",
          "name": "stdout",
          "text": [
            "[[1 2]\n",
            " [3 4]]\n",
            "transpose\n",
            " [[1 3]\n",
            " [2 4]]\n"
          ]
        }
      ]
    },
    {
      "cell_type": "code",
      "metadata": {
        "id": "mkk03eNIL9i4",
        "colab": {
          "base_uri": "https://localhost:8080/"
        },
        "outputId": "aeaf3668-de7b-46e3-d54f-6cc6bfa9af7a"
      },
      "source": [
        "v = np.array([[1,2,3]])\n",
        "print(v )\n",
        "print(\"transpose\\n\", v.T)"
      ],
      "execution_count": null,
      "outputs": [
        {
          "output_type": "stream",
          "name": "stdout",
          "text": [
            "[[1 2 3]]\n",
            "transpose\n",
            " [[1]\n",
            " [2]\n",
            " [3]]\n"
          ]
        }
      ]
    },
    {
      "cell_type": "markdown",
      "metadata": {
        "id": "REfLrUTcL9i7"
      },
      "source": [
        "###Broadcasting"
      ]
    },
    {
      "cell_type": "markdown",
      "metadata": {
        "id": "EygGAMWqL9i7"
      },
      "source": [
        "Broadcasting is a powerful mechanism that allows numpy to work with arrays of different shapes when performing arithmetic operations. Frequently we have a smaller array and a larger array, and we want to use the smaller array multiple times to perform some operation on the larger array.\n",
        "\n",
        "For example, suppose that we want to add a constant vector to each row of a matrix. We could do it like this:"
      ]
    },
    {
      "cell_type": "code",
      "metadata": {
        "id": "WEEvkV1ZL9i7",
        "colab": {
          "base_uri": "https://localhost:8080/"
        },
        "outputId": "514d7021-1038-4490-ed67-8f15d5c23c02"
      },
      "source": [
        "# We will add the vector v to each row of the matrix x,\n",
        "# storing the result in the matrix y\n",
        "x = np.array([[1,2,3], [4,5,6], [7,8,9], [10, 11, 12]])\n",
        "v = np.array([1, 0, 1])\n",
        "y = np.empty_like(x)   # Create an empty matrix with the same shape as x\n",
        "\n",
        "print(x.shape,v.shape)\n",
        "\n",
        "# Add the vector v to each row of the matrix x with an explicit loop\n",
        "for i in range(4):\n",
        "    print(x[i, :])\n",
        "    y[i, :] = x[i, :] + v\n",
        "\n",
        "print(y)"
      ],
      "execution_count": null,
      "outputs": [
        {
          "output_type": "stream",
          "name": "stdout",
          "text": [
            "(4, 3) (3,)\n",
            "[1 2 3]\n",
            "[4 5 6]\n",
            "[7 8 9]\n",
            "[10 11 12]\n",
            "[[ 2  2  4]\n",
            " [ 5  5  7]\n",
            " [ 8  8 10]\n",
            " [11 11 13]]\n"
          ]
        }
      ]
    },
    {
      "cell_type": "code",
      "metadata": {
        "id": "lxaiV2UMaQDb",
        "colab": {
          "base_uri": "https://localhost:8080/"
        },
        "outputId": "7293922e-5112-46fc-aca7-e479d41ef7e1"
      },
      "source": [
        "x, v"
      ],
      "execution_count": null,
      "outputs": [
        {
          "output_type": "execute_result",
          "data": {
            "text/plain": [
              "(array([[ 1,  2,  3],\n",
              "        [ 4,  5,  6],\n",
              "        [ 7,  8,  9],\n",
              "        [10, 11, 12]]), array([1, 0, 1]))"
            ]
          },
          "metadata": {},
          "execution_count": 53
        }
      ]
    },
    {
      "cell_type": "markdown",
      "metadata": {
        "id": "2OlXXupEL9i-"
      },
      "source": [
        "This works; however when the matrix `x` is very large, computing an explicit loop in Python could be slow. Note that adding the vector v to each row of the matrix `x` is equivalent to forming a matrix `vv` by stacking multiple copies of `v` vertically, then performing elementwise summation of `x` and `vv`. We could implement this approach like this:"
      ]
    },
    {
      "cell_type": "code",
      "metadata": {
        "id": "vS7UwAQQL9i-",
        "colab": {
          "base_uri": "https://localhost:8080/"
        },
        "outputId": "be2afc4f-3739-43f6-b526-b176e5d6eade"
      },
      "source": [
        "vv = np.tile(v, (4, 1))  # Stack 4 copies of v on top of each other\n",
        "print(vv)                # Prints \"[[1 0 1]\n",
        "                         #          [1 0 1]\n",
        "                         #          [1 0 1]\n",
        "                         #          [1 0 1]]\""
      ],
      "execution_count": null,
      "outputs": [
        {
          "output_type": "stream",
          "name": "stdout",
          "text": [
            "[[1 0 1]\n",
            " [1 0 1]\n",
            " [1 0 1]\n",
            " [1 0 1]]\n"
          ]
        }
      ]
    },
    {
      "cell_type": "code",
      "metadata": {
        "id": "1VAQNIjGnC2V",
        "colab": {
          "base_uri": "https://localhost:8080/"
        },
        "outputId": "bffbaad9-e816-4e41-f285-e3bc22c23534"
      },
      "source": [
        "vv.shape"
      ],
      "execution_count": null,
      "outputs": [
        {
          "output_type": "execute_result",
          "data": {
            "text/plain": [
              "(4, 3)"
            ]
          },
          "metadata": {},
          "execution_count": 73
        }
      ]
    },
    {
      "cell_type": "code",
      "metadata": {
        "id": "N0hJphSIL9jA",
        "colab": {
          "base_uri": "https://localhost:8080/"
        },
        "outputId": "c10797d5-10bc-4fc3-8ad0-e7baa493d0e6"
      },
      "source": [
        "y = x + vv  # Add x and vv elementwise\n",
        "print(y)"
      ],
      "execution_count": null,
      "outputs": [
        {
          "output_type": "stream",
          "name": "stdout",
          "text": [
            "[[ 2  2  4]\n",
            " [ 5  5  7]\n",
            " [ 8  8 10]\n",
            " [11 11 13]]\n"
          ]
        }
      ]
    },
    {
      "cell_type": "markdown",
      "metadata": {
        "id": "zHos6RJnL9jB"
      },
      "source": [
        "Numpy broadcasting allows us to perform this computation without actually creating multiple copies of v. Consider this version, using broadcasting:"
      ]
    },
    {
      "cell_type": "code",
      "metadata": {
        "id": "vnYFb-gYL9jC",
        "colab": {
          "base_uri": "https://localhost:8080/"
        },
        "outputId": "b0291bf0-1e33-42a6-dbc8-64eab6e55ffa"
      },
      "source": [
        "import numpy as np\n",
        "\n",
        "# We will add the vector v to each row of the matrix x,\n",
        "# storing the result in the matrix y\n",
        "x = np.array([[1,2,3], [4,5,6], [7,8,9], [10, 11, 12]])\n",
        "v = np.array([1, 0, 1])\n",
        "y = x + v  # Add v to each row of x using broadcasting\n",
        "print(y)\n",
        "print(np.array([1, 0, 1]).shape)\n",
        "\n",
        "print(np.array([[1, 0, 1]]).shape)\n",
        "\n",
        "print(np.array([[1, 0, 1],\n",
        " [1, 0, 1],\n",
        " [1, 0, 1],\n",
        " [1, 0, 1]]).shape)"
      ],
      "execution_count": null,
      "outputs": [
        {
          "output_type": "stream",
          "name": "stdout",
          "text": [
            "[[ 2  2  4]\n",
            " [ 5  5  7]\n",
            " [ 8  8 10]\n",
            " [11 11 13]]\n",
            "(3,)\n",
            "(1, 3)\n",
            "(4, 3)\n"
          ]
        }
      ]
    },
    {
      "cell_type": "markdown",
      "metadata": {
        "id": "08YyIURKL9jH"
      },
      "source": [
        "The line `y = x + v` works even though `x` has shape `(4, 3)` and `v` has shape `(3,)` due to broadcasting; this line works as if v actually had shape `(4, 3)`, where each row was a copy of `v`, and the sum was performed elementwise.\n",
        "\n",
        "Broadcasting two arrays together follows these rules:\n",
        "\n",
        "1. If the arrays do not have the same rank, prepend the shape of the lower rank array with 1s until both shapes have the same length.\n",
        "2. The two arrays are said to be compatible in a dimension if they have the same size in the dimension, or if one of the arrays has size 1 in that dimension.\n",
        "3. The arrays can be broadcast together if they are compatible in all dimensions.\n",
        "4. After broadcasting, each array behaves as if it had shape equal to the elementwise maximum of shapes of the two input arrays.\n",
        "5. In any dimension where one array had size 1 and the other array had size greater than 1, the first array behaves as if it were copied along that dimension\n",
        "\n",
        "If this explanation does not make sense, try reading the explanation from the [documentation](http://docs.scipy.org/doc/numpy/user/basics.broadcasting.html) or this [explanation](http://wiki.scipy.org/EricsBroadcastingDoc).\n",
        "\n",
        "Functions that support broadcasting are known as universal functions. You can find the list of all universal functions in the [documentation](http://docs.scipy.org/doc/numpy/reference/ufuncs.html#available-ufuncs).\n",
        "\n",
        "Here are some applications of broadcasting:"
      ]
    },
    {
      "cell_type": "code",
      "metadata": {
        "id": "EmQnwoM9L9jH",
        "colab": {
          "base_uri": "https://localhost:8080/"
        },
        "outputId": "08e1dd8b-e5bc-4241-ddbe-67ae634ff071"
      },
      "source": [
        "# Compute outer product of vectors\n",
        "v = np.array([1,2,3])  # v has shape (3,)\n",
        "w = np.array([4,5])    # w has shape (2,)\n",
        "# To compute an outer product, we first reshape v to be a column\n",
        "# vector of shape (3, 1); we can then broadcast it against w to yield\n",
        "# an output of shape (3, 2), which is the outer product of v and w:\n",
        "[1,2,3]\n",
        "print(np.reshape(v, (3, 1)) * w)\n",
        "\n",
        "# 4,3\n",
        "# 3, => 1,3 => 4,3"
      ],
      "execution_count": null,
      "outputs": [
        {
          "output_type": "stream",
          "name": "stdout",
          "text": [
            "[[ 4  5]\n",
            " [ 8 10]\n",
            " [12 15]]\n"
          ]
        }
      ]
    },
    {
      "cell_type": "markdown",
      "metadata": {
        "id": "iF3ZtwVNL9jQ"
      },
      "source": [
        "This brief overview has touched on many of the important things that you need to know about numpy, but is far from complete. Check out the [numpy reference](http://docs.scipy.org/doc/numpy/reference/) to find out much more about numpy."
      ]
    },
    {
      "cell_type": "markdown",
      "metadata": {
        "id": "jgPx0W3Ak_D5"
      },
      "source": [
        "**Q. Generate 2 different but broadcast compatible arrays and perform dot product**"
      ]
    },
    {
      "cell_type": "code",
      "metadata": {
        "id": "KpAd_hpUlQXw",
        "colab": {
          "base_uri": "https://localhost:8080/"
        },
        "outputId": "9084e048-eb7f-4e46-9f7c-22f97cd7aeaa"
      },
      "source": [
        "# Q. Generate 2 different but broadcast compatible arrays and perform dot product\n",
        "print(\"enter row and column size for array 1\")\n",
        "x1=int(input())\n",
        "y1=int(input())\n",
        "print(\"enter row and column for array 2\")\n",
        "x2=int(input())\n",
        "y2=int(input())\n",
        "\n",
        "a=np.array(np.random.randint(10,size=(x1,y1)))\n",
        "b=np.array(np.random.randint(10,size=(x2,y2)))\n",
        "print(\"array 1 is:\\n\",a)\n",
        "print(\"array 2 is:\\n\",b)\n",
        "c=np.dot(a,b)\n",
        "print(\"dot product is:\\n\",c)\n"
      ],
      "execution_count": 106,
      "outputs": [
        {
          "output_type": "stream",
          "name": "stdout",
          "text": [
            "enter row and column size for array 1\n",
            "2\n",
            "3\n",
            "enter row and column for array 2\n",
            "3\n",
            "4\n",
            "array 1 is:\n",
            " [[9 0 7]\n",
            " [0 5 1]]\n",
            "array 2 is:\n",
            " [[2 7 6 9]\n",
            " [7 8 4 4]\n",
            " [2 9 8 3]]\n",
            "dot product is:\n",
            " [[ 32 126 110 102]\n",
            " [ 37  49  28  23]]\n"
          ]
        }
      ]
    }
  ]
}